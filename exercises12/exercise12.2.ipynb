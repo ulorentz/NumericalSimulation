{
 "cells": [
  {
   "cell_type": "markdown",
   "metadata": {},
   "source": [
    "# Exercise 12.2\n"
   ]
  },
  {
   "cell_type": "code",
   "execution_count": 1,
   "metadata": {},
   "outputs": [],
   "source": [
    "import tensorflow as tf\n",
    "\n",
    "from tensorflow import keras\n",
    "import os\n",
    "import numpy as np\n",
    "import matplotlib.pyplot as plt\n",
    "seed=0\n",
    "np.random.seed(seed) # fix random seed\n",
    "tf.set_random_seed(seed)"
   ]
  },
  {
   "cell_type": "markdown",
   "metadata": {},
   "source": [
    "## Load data, understand it and prepare the learning process\n",
    "From the MNIST dataset description, you can see that it contains a set of white handwritten digits centered in a 28x28 image with a black background. \n",
    "Well, from my point of view I have just said two problems: \n",
    "* the digits are centered \n",
    "* all are white with black backgrounds.\n",
    "\n",
    "A supervised neural network will learn exactly what you give to it: seeing all centered digits, when it will set all its connections it will start to \"think\" that being centered is a property of the number \"six\", and so on. The same about the black background: seeing this in all the image the network will learn that it is an important feature of the digits. I don't want this, I want a more flexible network able to discriminate a number not giving importance to its background or to the fact that it is centered or not. \n",
    "From my point of view the most beautiful and interesting part of supervised learning is understanding and preparing data (not just building the network). So, let's prepare a dataset that will teach something more interesting to our network than the simple MNIST dataset."
   ]
  },
  {
   "cell_type": "code",
   "execution_count": 2,
   "metadata": {},
   "outputs": [],
   "source": [
    "from tensorflow.keras.datasets import mnist\n",
    "# input image dimensions\n",
    "img_rows, img_cols = 28, 28 # number of pixels \n",
    "# output\n",
    "num_classes = 10 # 10 digits\n",
    "# the data, split between train and test sets\n",
    "(X_train, Y_train), (X_test, Y_test) = mnist.load_data()"
   ]
  },
  {
   "cell_type": "markdown",
   "metadata": {},
   "source": [
    "In the next lines of code I will take care of the background. The trick is to invert some of the image, for instance 30% of the dataset will become with black digit and white background. "
   ]
  },
  {
   "cell_type": "code",
   "execution_count": 3,
   "metadata": {},
   "outputs": [],
   "source": [
    "X_train_inverted=np.invert(X_train[0: int(X_train.shape[0]/3)]) #inverting bits!\n",
    "X_train_not_inverted=X_train[int(X_train.shape[0]/3) :]\n",
    "X_train = np.concatenate((X_train_inverted, X_train_not_inverted)) #merging again the inverted and normal images"
   ]
  },
  {
   "cell_type": "markdown",
   "metadata": {},
   "source": [
    "I will not transform the test set: this is used just for testing, not for training, so it will not affect the result of the learning process."
   ]
  },
  {
   "cell_type": "markdown",
   "metadata": {},
   "source": [
    "## Preprocessing\n",
    "The first step is just creating the category to learn and reshape the image for keras."
   ]
  },
  {
   "cell_type": "code",
   "execution_count": 4,
   "metadata": {},
   "outputs": [],
   "source": [
    "Y_train = keras.utils.to_categorical(Y_train, num_classes)\n",
    "Y_test = keras.utils.to_categorical(Y_test, num_classes)\n",
    "\n",
    "\n",
    "# reshape data, depending on Keras backend\n",
    "if keras.backend.image_data_format() == 'channels_first':\n",
    "    X_train = X_train.reshape(X_train.shape[0], 1, img_rows, img_cols)\n",
    "    X_test = X_test.reshape(X_test.shape[0], 1, img_rows, img_cols)\n",
    "    input_shape = (1, img_rows, img_cols)\n",
    "else:\n",
    "    X_train = X_train.reshape(X_train.shape[0], img_rows, img_cols, 1)\n",
    "    X_test = X_test.reshape(X_test.shape[0], img_rows, img_cols, 1)\n",
    "    input_shape = (img_rows, img_cols, 1)"
   ]
  },
  {
   "cell_type": "markdown",
   "metadata": {},
   "source": [
    "Now we need to do two important things:\n",
    "* Normalize the data\n",
    "* Create some hints that can suggest  that centering is not an important feature.\n",
    "All neural network routines expect normalized data. In particular image processing expects numbers between [0,1]. \n",
    "For the preprocessing I will use `ImageDataGenerator`, an utils from keras designed to create variability in the image: this process is called \"data augmentation\". I will instruct this class to rotate, rescale and shift (both vertically and horizonatlly) the images: after that some image will be randomly displaced in the frame (the rescaling will apply to all).\n",
    "\n",
    "In exercise 12.3 you can see the difference of doing this data augmentation and not to do it. "
   ]
  },
  {
   "cell_type": "code",
   "execution_count": 5,
   "metadata": {},
   "outputs": [],
   "source": [
    "from tensorflow.keras.preprocessing.image import ImageDataGenerator \n",
    "\n",
    "train_datagen = ImageDataGenerator(\n",
    "        rescale=1./255,\n",
    "        rotation_range=15,\n",
    "        width_shift_range=0.18,\n",
    "        height_shift_range=0.1,\n",
    ") \n",
    "\n",
    "#on test we only need to rescale\n",
    "test_datagen = ImageDataGenerator(rescale=1./255) \n",
    "\n",
    "train_datagen.fit(X_train)\n",
    "test_datagen.fit(X_test)"
   ]
  },
  {
   "cell_type": "markdown",
   "metadata": {},
   "source": [
    "Let's see the effect of all the transformations on some images:"
   ]
  },
  {
   "cell_type": "code",
   "execution_count": 6,
   "metadata": {},
   "outputs": [
    {
     "data": {
      "image/png": "[encoded data removed]",
      "text/plain": [
       "<Figure size 1080x1080 with 10 Axes>"
      ]
     },
     "metadata": {
      "needs_background": "light"
     },
     "output_type": "display_data"
    },
    {
     "data": {
      "image/png": "[encoded data removed]",
      "text/plain": [
       "<Figure size 1080x1080 with 10 Axes>"
      ]
     },
     "metadata": {
      "needs_background": "light"
     },
     "output_type": "display_data"
    }
   ],
   "source": [
    "batches = train_datagen.flow(X_train, Y_train)\n",
    "x, y = batches.next()\n",
    "plt.figure(figsize=(15,15))\n",
    "for i in range(10):\n",
    "    image = x[i]*255 #unscale\n",
    "    \n",
    "    ax = plt.subplot(2, 10, i + 1)  \n",
    "    plt.imshow(image.squeeze(), cmap='gray')\n",
    "    plt.axis('off') \n",
    "plt.show()\n",
    "plt.figure(figsize=(15,15))\n",
    "for i in range(10,20):\n",
    "    image = x[i]*255 #unscale\n",
    "    \n",
    "    ax = plt.subplot(2, 10, i + 1)  \n",
    "    plt.imshow(image.squeeze(), cmap='gray')\n",
    "    plt.axis('off') \n",
    "plt.show()"
   ]
  },
  {
   "cell_type": "markdown",
   "metadata": {},
   "source": [
    "## Building the Convolutional Neural Network \n",
    "\n",
    "Now it's time to create the model. I will instantiate two convolutional layers, two fully connected hidden layers (actually one may be enough..) and one output layer.\n",
    "\n",
    "As optimizer I will use `adam` that is one of the best for convolutional networks.\n",
    "The most important thing here is not to forget to put some nonlinearity in the convolutional layer (a relu is fine), without it having more than one convolutional layer is completely useless: it can be shown that a cascade of linear layer is equal to having a single layer of the lowest dimensionality (with everything linear we are just multiplying matrices, so the product is a single matrix)."
   ]
  },
  {
   "cell_type": "code",
   "execution_count": 7,
   "metadata": {},
   "outputs": [],
   "source": [
    "from tensorflow.keras.models import Sequential\n",
    "from tensorflow.keras.layers import Flatten, Conv2D, MaxPooling2D, Dense, Dropout\n",
    "def create_CNN():\n",
    "    # instantiate model\n",
    "    model = Sequential()\n",
    "    model.add(Conv2D(16, kernel_size=(5, 5),\n",
    "                     activation='relu',\n",
    "                     input_shape=input_shape))\n",
    "    model.add(MaxPooling2D(pool_size=(2,2)))\n",
    "    \n",
    "    #another convolutional layer: a good \"rule\" is to double the number of filters\n",
    "    model.add(Conv2D(32, kernel_size=(5, 5),\n",
    "                     activation='relu'))\n",
    "    model.add(MaxPooling2D(pool_size=(2,2)))\n",
    "  \n",
    "    \n",
    "    #some dropout to avoid overfitting\n",
    "    model.add(Dropout(0.2))\n",
    "    model.add(Flatten())\n",
    "    \n",
    "    model.add(Dense(units=120, activation=\"relu\",))\n",
    "    model.add(Dropout(0.2))\n",
    "    \n",
    "    model.add(Dense(units=80, activation=\"relu\",))\n",
    "    model.add(Dropout(0.2))\n",
    "    #output layer\n",
    "    model.add(Dense(units=10, activation=\"softmax\"))\n",
    "        \n",
    "    # compile the model\n",
    "    model.compile(loss=keras.losses.categorical_crossentropy,\n",
    "                  optimizer='adam',\n",
    "                  metrics=['accuracy'])\n",
    "    return model"
   ]
  },
  {
   "cell_type": "markdown",
   "metadata": {},
   "source": [
    "Fit the model. I have a GPU on my pc, may be very long on a laptop CPU..."
   ]
  },
  {
   "cell_type": "code",
   "execution_count": 8,
   "metadata": {},
   "outputs": [
    {
     "name": "stdout",
     "output_type": "stream",
     "text": [
      "WARNING:tensorflow:From /usr/lib/python3.7/site-packages/tensorflow/python/ops/resource_variable_ops.py:435: colocate_with (from tensorflow.python.framework.ops) is deprecated and will be removed in a future version.\n",
      "Instructions for updating:\n",
      "Colocations handled automatically by placer.\n",
      "WARNING:tensorflow:From /usr/lib/python3.7/site-packages/tensorflow/python/keras/layers/core.py:143: calling dropout (from tensorflow.python.ops.nn_ops) with keep_prob is deprecated and will be removed in a future version.\n",
      "Instructions for updating:\n",
      "Please use `rate` instead of `keep_prob`. Rate should be set to `rate = 1 - keep_prob`.\n",
      "WARNING:tensorflow:From /usr/lib/python3.7/site-packages/tensorflow/python/ops/math_ops.py:3066: to_int32 (from tensorflow.python.ops.math_ops) is deprecated and will be removed in a future version.\n",
      "Instructions for updating:\n",
      "Use tf.cast instead.\n",
      "Epoch 1/4\n",
      "313/313 [==============================] - 0s 2ms/step - loss: 0.0665 - acc: 0.9782\n",
      "1875/1875 [==============================] - 13s 7ms/step - loss: 0.6043 - acc: 0.8012 - val_loss: 0.0665 - val_acc: 0.9782\n",
      "Epoch 2/4\n",
      "313/313 [==============================] - 0s 1ms/step - loss: 0.0418 - acc: 0.9863\n",
      "1875/1875 [==============================] - 11s 6ms/step - loss: 0.2228 - acc: 0.9319 - val_loss: 0.0418 - val_acc: 0.9863\n",
      "Epoch 3/4\n",
      "313/313 [==============================] - 0s 1ms/step - loss: 0.0337 - acc: 0.9885\n",
      "1875/1875 [==============================] - 11s 6ms/step - loss: 0.1797 - acc: 0.9447 - val_loss: 0.0337 - val_acc: 0.9885\n",
      "Epoch 4/4\n",
      "313/313 [==============================] - 0s 1ms/step - loss: 0.0340 - acc: 0.9882\n",
      "1875/1875 [==============================] - 11s 6ms/step - loss: 0.1538 - acc: 0.9530 - val_loss: 0.0340 - val_acc: 0.9882\n"
     ]
    }
   ],
   "source": [
    "# training parameters\n",
    "batch_size = 32\n",
    "epochs = 4\n",
    "\n",
    "#those will be used in the NN\n",
    "training_set=train_datagen.flow(X_train, Y_train, batch_size=batch_size)\n",
    "test_set=test_datagen.flow(X_test, Y_test, batch_size=batch_size)\n",
    "\n",
    "\n",
    "# create the deep conv net\n",
    "model_CNN=create_CNN()\n",
    "saved=False\n",
    "save_model_path=\"model/conv_model\"\n",
    "\n",
    "if(saved==True):\n",
    "    model_old = tf.keras.models.load_model(filepath=save_model_path)\n",
    "else:\n",
    "# train CNN\n",
    "\n",
    "    history= model_CNN.fit_generator(training_set,\n",
    "                                 epochs=epochs,\n",
    "                                 steps_per_epoch=len(X_train) /batch_size,\n",
    "                                 verbose=1,\n",
    "                                 validation_data=test_set,\n",
    "                                 validation_steps=len(X_test)/batch_size)"
   ]
  },
  {
   "cell_type": "code",
   "execution_count": 9,
   "metadata": {
    "scrolled": true
   },
   "outputs": [
    {
     "data": {
      "image/png": "[encoded data removed]",
      "text/plain": [
       "<Figure size 432x288 with 1 Axes>"
      ]
     },
     "metadata": {
      "needs_background": "light"
     },
     "output_type": "display_data"
    }
   ],
   "source": [
    "# look into training history\n",
    "\n",
    "# summarize history for accuracy\n",
    "plt.plot(history.history['acc'])\n",
    "plt.plot(history.history['val_acc'])\n",
    "plt.ylabel('model accuracy')\n",
    "plt.xlabel('epoch')\n",
    "plt.legend(['train', 'test'], loc='best')\n",
    "plt.show()"
   ]
  },
  {
   "cell_type": "markdown",
   "metadata": {},
   "source": [
    "## Evaluation\n"
   ]
  },
  {
   "cell_type": "markdown",
   "metadata": {},
   "source": [
    "I will now analyze the scoring on both the \"normal\" test set and on the \"inverted\" image test set:"
   ]
  },
  {
   "cell_type": "code",
   "execution_count": 10,
   "metadata": {},
   "outputs": [
    {
     "name": "stdout",
     "output_type": "stream",
     "text": [
      "313/313 [==============================] - 0s 1ms/step - loss: 0.0340 - acc: 0.9882\n",
      "313/313 [==============================] - 0s 1ms/step - loss: 0.0497 - acc: 0.9841\n",
      "\n",
      "Normal test set\n",
      "Test loss: 0.0340406845940036\n",
      "Test accuracy: 0.9882\n",
      "\n",
      "Inverted test set\n",
      "Test loss: 0.04971291586706867\n",
      "Test accuracy: 0.9841\n"
     ]
    }
   ],
   "source": [
    "# evaliate model\n",
    "score = model_CNN.evaluate(test_set, verbose=1, batch_size=batch_size)\n",
    "\n",
    "X_test_inverted=np.invert(X_test)\n",
    "test_set_inverted=test_datagen.flow(X_test_inverted, Y_test, batch_size=batch_size)\n",
    "\n",
    "score_inverted = model_CNN.evaluate(test_set_inverted)\n",
    "\n",
    "#score_inverted = model_CNN.evaluate(X_test_inverted, verbose=1, batch_size=batch_size)\n",
    "\n",
    "# print performance\n",
    "print()\n",
    "print(\"Normal test set\")\n",
    "print('Test loss:', score[0])\n",
    "print('Test accuracy:', score[1])\n",
    "print()\n",
    "print(\"Inverted test set\")\n",
    "print('Test loss:', score_inverted[0])\n",
    "print('Test accuracy:', score_inverted[1])\n"
   ]
  },
  {
   "cell_type": "markdown",
   "metadata": {},
   "source": [
    "Let's see some example on the \"normal\" test set:"
   ]
  },
  {
   "cell_type": "code",
   "execution_count": 11,
   "metadata": {},
   "outputs": [
    {
     "data": {
      "image/png": "[encoded data removed]",
      "text/plain": [
       "<Figure size 1080x1080 with 10 Axes>"
      ]
     },
     "metadata": {
      "needs_background": "light"
     },
     "output_type": "display_data"
    }
   ],
   "source": [
    "predictions = model_CNN.predict(X_test)\n",
    "\n",
    "X_test = X_test.reshape(X_test.shape[0], img_rows, img_cols,1)\n",
    "\n",
    "plt.figure(figsize=(15, 15)) \n",
    "for i in range(10):    \n",
    "    ax = plt.subplot(2, 10, i + 1)    \n",
    "    plt.imshow(X_test[i, :, :, 0], cmap='gray')    \n",
    "    plt.title(\"Digit: {}\\nPredicted:    {}\".format(np.argmax(Y_test[i]), np.argmax(predictions[i])))    \n",
    "    plt.axis('off') \n",
    "plt.show()"
   ]
  },
  {
   "cell_type": "markdown",
   "metadata": {},
   "source": [
    "Now let's analyze the same image on the \"inverted\" test set:"
   ]
  },
  {
   "cell_type": "code",
   "execution_count": 12,
   "metadata": {},
   "outputs": [
    {
     "data": {
      "image/png": "[encoded data removed]",
      "text/plain": [
       "<Figure size 1080x1080 with 10 Axes>"
      ]
     },
     "metadata": {
      "needs_background": "light"
     },
     "output_type": "display_data"
    }
   ],
   "source": [
    "predictions_inverted = model_CNN.predict(X_test_inverted)\n",
    "\n",
    "\n",
    "X_test_inverted = X_test_inverted.reshape(X_test_inverted.shape[0], img_rows, img_cols,1)\n",
    "\n",
    "plt.figure(figsize=(15, 15)) \n",
    "for i in range(10):    \n",
    "    ax = plt.subplot(2, 10, i + 1)    \n",
    "    plt.imshow(X_test_inverted[i, :, :, 0], cmap='gray')    \n",
    "    plt.title(\"Digit: {}\\nPredicted:    {}\".format(np.argmax(Y_test[i]), np.argmax(predictions_inverted[i])))    \n",
    "    plt.axis('off') \n",
    "plt.show()"
   ]
  },
  {
   "cell_type": "markdown",
   "metadata": {},
   "source": [
    "The network performed almost perfectly both on normal digits and inverted one. I find it fascinating how it was enough to invert the color of just 30% of the images to teach the network that background and colors aren't an import feature of the object \"digits\"."
   ]
  },
  {
   "cell_type": "code",
   "execution_count": 13,
   "metadata": {},
   "outputs": [],
   "source": [
    "#if needed save\n",
    "save_model_path=\"model/conv_model_inverted\"\n",
    "if(saved==False):\n",
    "    model_CNN.save(filepath=save_model_path, include_optimizer=True)"
   ]
  },
  {
   "cell_type": "code",
   "execution_count": 14,
   "metadata": {},
   "outputs": [
    {
     "name": "stdout",
     "output_type": "stream",
     "text": [
      "_________________________________________________________________\n",
      "Layer (type)                 Output Shape              Param #   \n",
      "=================================================================\n",
      "conv2d (Conv2D)              (None, 24, 24, 16)        416       \n",
      "_________________________________________________________________\n",
      "max_pooling2d (MaxPooling2D) (None, 12, 12, 16)        0         \n",
      "_________________________________________________________________\n",
      "conv2d_1 (Conv2D)            (None, 8, 8, 32)          12832     \n",
      "_________________________________________________________________\n",
      "max_pooling2d_1 (MaxPooling2 (None, 4, 4, 32)          0         \n",
      "_________________________________________________________________\n",
      "dropout (Dropout)            (None, 4, 4, 32)          0         \n",
      "_________________________________________________________________\n",
      "flatten (Flatten)            (None, 512)               0         \n",
      "_________________________________________________________________\n",
      "dense (Dense)                (None, 120)               61560     \n",
      "_________________________________________________________________\n",
      "dropout_1 (Dropout)          (None, 120)               0         \n",
      "_________________________________________________________________\n",
      "dense_1 (Dense)              (None, 80)                9680      \n",
      "_________________________________________________________________\n",
      "dropout_2 (Dropout)          (None, 80)                0         \n",
      "_________________________________________________________________\n",
      "dense_2 (Dense)              (None, 10)                810       \n",
      "=================================================================\n",
      "Total params: 85,298\n",
      "Trainable params: 85,298\n",
      "Non-trainable params: 0\n",
      "_________________________________________________________________\n"
     ]
    }
   ],
   "source": [
    "model_CNN.summary()"
   ]
  },
  {
   "cell_type": "code",
   "execution_count": null,
   "metadata": {},
   "outputs": [],
   "source": []
  }
 ],
 "metadata": {
  "kernelspec": {
   "display_name": "Python 3",
   "language": "python",
   "name": "python3"
  },
  "language_info": {
   "codemirror_mode": {
    "name": "ipython",
    "version": 3
   },
   "file_extension": ".py",
   "mimetype": "text/x-python",
   "name": "python",
   "nbconvert_exporter": "python",
   "pygments_lexer": "ipython3",
   "version": "3.7.3"
  }
 },
 "nbformat": 4,
 "nbformat_minor": 2
}
