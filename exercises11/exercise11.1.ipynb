{
 "cells": [
  {
   "cell_type": "markdown",
   "metadata": {},
   "source": [
    "# Exercise 11.1\n",
    "\n",
    "As a first step I import all the needed libraries."
   ]
  },
  {
   "cell_type": "code",
   "execution_count": 2,
   "metadata": {},
   "outputs": [],
   "source": [
    "# Importing the libraries\n",
    "import numpy as np\n",
    "import matplotlib.pyplot as plt"
   ]
  },
  {
   "cell_type": "markdown",
   "metadata": {},
   "source": [
    "## Data generation \n",
    "Now let's generate the data, I will add some noise (sigma = 0.2) in order to make the data more \"real\": in true life application we always have some noise. "
   ]
  },
  {
   "cell_type": "code",
   "execution_count": 5,
   "metadata": {},
   "outputs": [],
   "source": [
    "# target parameters of f(x) = m*x + b\n",
    "m = 2 # slope\n",
    "b = 1 # intersect\n",
    "\n",
    "# generate training inputs\n",
    "np.random.seed(0)\n",
    "x_train = np.random.uniform(-1, 1, 100)\n",
    "x_valid = np.random.uniform(-1, 1, 10)\n",
    "x_valid.sort()\n",
    "y_target = m * x_valid + b # ideal (target) linear function\n",
    "\n",
    "sigma = 0.2 # noise standard deviation, for the moment it is absent\n",
    "y_train = np.random.normal(m * x_train + b, sigma) # actual measures from which we want to guess regression parameters\n",
    "y_valid = np.random.normal(m * x_valid + b, sigma)"
   ]
  },
  {
   "cell_type": "markdown",
   "metadata": {},
   "source": [
    "Visualize the data "
   ]
  },
  {
   "cell_type": "code",
   "execution_count": 6,
   "metadata": {},
   "outputs": [
    {
     "data": {
      "image/png": "[encoded data removed]",
      "text/plain": [
       "<Figure size 432x288 with 1 Axes>"
      ]
     },
     "metadata": {
      "needs_background": "light"
     },
     "output_type": "display_data"
    }
   ],
   "source": [
    "# plot training and target dataset\n",
    "import matplotlib.pyplot as plt\n",
    "plt.plot(x_valid, y_target, label=\"True line\")\n",
    "plt.scatter(x_valid, y_valid, color='r',label=\"Data with noise\")\n",
    "plt.legend()\n",
    "plt.grid(True); plt.show()"
   ]
  },
  {
   "cell_type": "markdown",
   "metadata": {},
   "source": [
    "## Data preprocessing"
   ]
  },
  {
   "cell_type": "markdown",
   "metadata": {},
   "source": [
    "Machine learning always need some kind of data preprocessing. Normally, data should be normalized or scaled in a specific range. This is particulary important in order to make the algorithm able to generalize well on unseen data, especially if the new data lies on an unexplored range. Furthermore, machine learning libraries are written in a way that expects normalized data, in some way: they may perform badly on data that it is not.\n",
    "\n",
    "Usually, regression problems require normally distributed features (gaussian centred on zero, with unit variance), and I will do so."
   ]
  },
  {
   "cell_type": "code",
   "execution_count": 7,
   "metadata": {},
   "outputs": [],
   "source": [
    "from sklearn.preprocessing import StandardScaler\n",
    "scaler = StandardScaler()\n",
    "x_train_scal = scaler.fit_transform(x_train.reshape(-1,1))\n",
    "x_valid_scal = scaler.transform(x_valid.reshape(-1,1))"
   ]
  },
  {
   "cell_type": "markdown",
   "metadata": {},
   "source": [
    "This simple shrewdness can really change results (since the way keras is implemented). In the following figures you can see how the neuron perform on unnormalized and normalized validation data. Both fits have been done with batch size of 32, 30 epochs and stochastic gradient descent and no noisy data.\n",
    "\n",
    "<img src=\"not_norm.png\"> <img src=\"norm.png\">\n",
    "\n",
    "This simple trick is almost enough to have a very good performing neuron (and some more epochs will do the rest!)."
   ]
  },
  {
   "cell_type": "markdown",
   "metadata": {},
   "source": [
    "## Building the neural network"
   ]
  },
  {
   "cell_type": "markdown",
   "metadata": {},
   "source": [
    "The model should be very simple, and is actually so simple that no tricky optimizer should be needed, the plain stochastic gradient descent is enough and I will not change it. Some more epochs than the 30 of the example may be necessary, I will try with 50."
   ]
  },
  {
   "cell_type": "code",
   "execution_count": 8,
   "metadata": {},
   "outputs": [
    {
     "name": "stderr",
     "output_type": "stream",
     "text": [
      "WARNING: Logging before flag parsing goes to stderr.\n",
      "W0711 19:04:29.788876 140089385768576 __init__.py:308] Limited tf.compat.v2.summary API due to missing TensorBoard installation.\n",
      "W0711 19:04:30.185673 140089385768576 deprecation.py:506] From /usr/lib/python3.7/site-packages/tensorflow/python/ops/init_ops.py:1251: calling VarianceScaling.__init__ (from tensorflow.python.ops.init_ops) with dtype is deprecated and will be removed in a future version.\n",
      "Instructions for updating:\n",
      "Call initializer instance with the dtype argument instead of passing it to the constructor\n"
     ]
    }
   ],
   "source": [
    "from tensorflow import keras\n",
    "\n",
    "from tensorflow.keras.models import Sequential\n",
    "from tensorflow.keras.layers import Dense, Activation\n",
    "from tensorflow.keras import backend as K\n",
    "from tensorflow.keras.utils import get_custom_objects\n",
    "\n",
    "model = keras.Sequential()\n",
    "model.add(Dense(1, input_shape=(1,)))\n",
    "\n",
    "# compile the model choosing optimizer, loss and metrics objects\n",
    "model.compile(optimizer='sgd', loss='mse', metrics=['mse'], )"
   ]
  },
  {
   "cell_type": "code",
   "execution_count": 9,
   "metadata": {},
   "outputs": [
    {
     "name": "stdout",
     "output_type": "stream",
     "text": [
      "Train on 100 samples, validate on 10 samples\n",
      "Epoch 1/50\n",
      "100/100 [==============================] - 0s 2ms/sample - loss: 8.9718 - mean_squared_error: 8.9718 - val_loss: 8.9598 - val_mean_squared_error: 8.9598\n",
      "Epoch 2/50\n",
      "100/100 [==============================] - 0s 295us/sample - loss: 7.6695 - mean_squared_error: 7.6695 - val_loss: 7.3683 - val_mean_squared_error: 7.3683\n",
      "Epoch 3/50\n",
      "100/100 [==============================] - 0s 234us/sample - loss: 6.3593 - mean_squared_error: 6.3593 - val_loss: 6.3001 - val_mean_squared_error: 6.3001\n",
      "Epoch 4/50\n",
      "100/100 [==============================] - 0s 153us/sample - loss: 5.4517 - mean_squared_error: 5.4517 - val_loss: 5.2370 - val_mean_squared_error: 5.2370\n",
      "Epoch 5/50\n",
      "100/100 [==============================] - 0s 232us/sample - loss: 4.5648 - mean_squared_error: 4.5648 - val_loss: 4.5249 - val_mean_squared_error: 4.5249\n",
      "Epoch 6/50\n",
      "100/100 [==============================] - 0s 158us/sample - loss: 3.9353 - mean_squared_error: 3.9353 - val_loss: 3.8292 - val_mean_squared_error: 3.8292\n",
      "Epoch 7/50\n",
      "100/100 [==============================] - 0s 216us/sample - loss: 3.3518 - mean_squared_error: 3.3518 - val_loss: 3.2677 - val_mean_squared_error: 3.2677\n",
      "Epoch 8/50\n",
      "100/100 [==============================] - 0s 238us/sample - loss: 2.8654 - mean_squared_error: 2.8654 - val_loss: 2.7667 - val_mean_squared_error: 2.7667\n",
      "Epoch 9/50\n",
      "100/100 [==============================] - 0s 212us/sample - loss: 2.4358 - mean_squared_error: 2.4358 - val_loss: 2.3231 - val_mean_squared_error: 2.3231\n",
      "Epoch 10/50\n",
      "100/100 [==============================] - 0s 203us/sample - loss: 2.0582 - mean_squared_error: 2.0582 - val_loss: 1.9702 - val_mean_squared_error: 1.9702\n",
      "Epoch 11/50\n",
      "100/100 [==============================] - 0s 181us/sample - loss: 1.7569 - mean_squared_error: 1.7569 - val_loss: 1.7119 - val_mean_squared_error: 1.7119\n",
      "Epoch 12/50\n",
      "100/100 [==============================] - 0s 177us/sample - loss: 1.5300 - mean_squared_error: 1.5300 - val_loss: 1.4283 - val_mean_squared_error: 1.4283\n",
      "Epoch 13/50\n",
      "100/100 [==============================] - 0s 192us/sample - loss: 1.2857 - mean_squared_error: 1.2857 - val_loss: 1.2161 - val_mean_squared_error: 1.2161\n",
      "Epoch 14/50\n",
      "100/100 [==============================] - 0s 180us/sample - loss: 1.0999 - mean_squared_error: 1.0999 - val_loss: 0.9671 - val_mean_squared_error: 0.9671\n",
      "Epoch 15/50\n",
      "100/100 [==============================] - 0s 257us/sample - loss: 0.8893 - mean_squared_error: 0.8893 - val_loss: 0.8128 - val_mean_squared_error: 0.8128\n",
      "Epoch 16/50\n",
      "100/100 [==============================] - 0s 183us/sample - loss: 0.7565 - mean_squared_error: 0.7565 - val_loss: 0.7011 - val_mean_squared_error: 0.7011\n",
      "Epoch 17/50\n",
      "100/100 [==============================] - 0s 216us/sample - loss: 0.6561 - mean_squared_error: 0.6561 - val_loss: 0.5922 - val_mean_squared_error: 0.5922\n",
      "Epoch 18/50\n",
      "100/100 [==============================] - 0s 171us/sample - loss: 0.5603 - mean_squared_error: 0.5603 - val_loss: 0.4976 - val_mean_squared_error: 0.4976\n",
      "Epoch 19/50\n",
      "100/100 [==============================] - 0s 219us/sample - loss: 0.4784 - mean_squared_error: 0.4784 - val_loss: 0.4290 - val_mean_squared_error: 0.4290\n",
      "Epoch 20/50\n",
      "100/100 [==============================] - 0s 198us/sample - loss: 0.4173 - mean_squared_error: 0.4173 - val_loss: 0.3602 - val_mean_squared_error: 0.3602\n",
      "Epoch 21/50\n",
      "100/100 [==============================] - 0s 194us/sample - loss: 0.3544 - mean_squared_error: 0.3544 - val_loss: 0.3152 - val_mean_squared_error: 0.3152\n",
      "Epoch 22/50\n",
      "100/100 [==============================] - 0s 218us/sample - loss: 0.3127 - mean_squared_error: 0.3127 - val_loss: 0.2656 - val_mean_squared_error: 0.2656\n",
      "Epoch 23/50\n",
      "100/100 [==============================] - 0s 215us/sample - loss: 0.2681 - mean_squared_error: 0.2681 - val_loss: 0.2339 - val_mean_squared_error: 0.2339\n",
      "Epoch 24/50\n",
      "100/100 [==============================] - 0s 159us/sample - loss: 0.2390 - mean_squared_error: 0.2390 - val_loss: 0.2053 - val_mean_squared_error: 0.2053\n",
      "Epoch 25/50\n",
      "100/100 [==============================] - 0s 152us/sample - loss: 0.2122 - mean_squared_error: 0.2122 - val_loss: 0.1738 - val_mean_squared_error: 0.1738\n",
      "Epoch 26/50\n",
      "100/100 [==============================] - 0s 172us/sample - loss: 0.1834 - mean_squared_error: 0.1834 - val_loss: 0.1481 - val_mean_squared_error: 0.1481\n",
      "Epoch 27/50\n",
      "100/100 [==============================] - 0s 190us/sample - loss: 0.1586 - mean_squared_error: 0.1586 - val_loss: 0.1297 - val_mean_squared_error: 0.1297\n",
      "Epoch 28/50\n",
      "100/100 [==============================] - 0s 193us/sample - loss: 0.1412 - mean_squared_error: 0.1412 - val_loss: 0.1135 - val_mean_squared_error: 0.1135\n",
      "Epoch 29/50\n",
      "100/100 [==============================] - 0s 206us/sample - loss: 0.1257 - mean_squared_error: 0.1257 - val_loss: 0.0963 - val_mean_squared_error: 0.0963\n",
      "Epoch 30/50\n",
      "100/100 [==============================] - 0s 220us/sample - loss: 0.1094 - mean_squared_error: 0.1094 - val_loss: 0.0865 - val_mean_squared_error: 0.0865\n",
      "Epoch 31/50\n",
      "100/100 [==============================] - 0s 169us/sample - loss: 0.0998 - mean_squared_error: 0.0998 - val_loss: 0.0776 - val_mean_squared_error: 0.0776\n",
      "Epoch 32/50\n",
      "100/100 [==============================] - 0s 169us/sample - loss: 0.0913 - mean_squared_error: 0.0913 - val_loss: 0.0702 - val_mean_squared_error: 0.0702\n",
      "Epoch 33/50\n",
      "100/100 [==============================] - 0s 164us/sample - loss: 0.0841 - mean_squared_error: 0.0841 - val_loss: 0.0640 - val_mean_squared_error: 0.0640\n",
      "Epoch 34/50\n",
      "100/100 [==============================] - 0s 270us/sample - loss: 0.0778 - mean_squared_error: 0.0778 - val_loss: 0.0579 - val_mean_squared_error: 0.0579\n",
      "Epoch 35/50\n",
      "100/100 [==============================] - 0s 328us/sample - loss: 0.0718 - mean_squared_error: 0.0718 - val_loss: 0.0528 - val_mean_squared_error: 0.0528\n",
      "Epoch 36/50\n",
      "100/100 [==============================] - 0s 168us/sample - loss: 0.0665 - mean_squared_error: 0.0665 - val_loss: 0.0494 - val_mean_squared_error: 0.0494\n",
      "Epoch 37/50\n",
      "100/100 [==============================] - 0s 211us/sample - loss: 0.0628 - mean_squared_error: 0.0628 - val_loss: 0.0465 - val_mean_squared_error: 0.0465\n",
      "Epoch 38/50\n",
      "100/100 [==============================] - 0s 174us/sample - loss: 0.0594 - mean_squared_error: 0.0594 - val_loss: 0.0432 - val_mean_squared_error: 0.0432\n",
      "Epoch 39/50\n",
      "100/100 [==============================] - 0s 171us/sample - loss: 0.0561 - mean_squared_error: 0.0561 - val_loss: 0.0407 - val_mean_squared_error: 0.0407\n",
      "Epoch 40/50\n",
      "100/100 [==============================] - 0s 175us/sample - loss: 0.0533 - mean_squared_error: 0.0533 - val_loss: 0.0391 - val_mean_squared_error: 0.0391\n",
      "Epoch 41/50\n",
      "100/100 [==============================] - 0s 177us/sample - loss: 0.0515 - mean_squared_error: 0.0515 - val_loss: 0.0375 - val_mean_squared_error: 0.0375\n",
      "Epoch 42/50\n",
      "100/100 [==============================] - 0s 191us/sample - loss: 0.0495 - mean_squared_error: 0.0495 - val_loss: 0.0363 - val_mean_squared_error: 0.0363\n",
      "Epoch 43/50\n",
      "100/100 [==============================] - 0s 173us/sample - loss: 0.0478 - mean_squared_error: 0.0478 - val_loss: 0.0353 - val_mean_squared_error: 0.0353\n",
      "Epoch 44/50\n",
      "100/100 [==============================] - 0s 180us/sample - loss: 0.0466 - mean_squared_error: 0.0466 - val_loss: 0.0349 - val_mean_squared_error: 0.0349\n",
      "Epoch 45/50\n",
      "100/100 [==============================] - 0s 150us/sample - loss: 0.0457 - mean_squared_error: 0.0457 - val_loss: 0.0348 - val_mean_squared_error: 0.0348\n",
      "Epoch 46/50\n",
      "100/100 [==============================] - 0s 200us/sample - loss: 0.0454 - mean_squared_error: 0.0454 - val_loss: 0.0341 - val_mean_squared_error: 0.0341\n",
      "Epoch 47/50\n",
      "100/100 [==============================] - 0s 171us/sample - loss: 0.0447 - mean_squared_error: 0.0447 - val_loss: 0.0336 - val_mean_squared_error: 0.0336\n",
      "Epoch 48/50\n",
      "100/100 [==============================] - 0s 165us/sample - loss: 0.0443 - mean_squared_error: 0.0443 - val_loss: 0.0332 - val_mean_squared_error: 0.0332\n",
      "Epoch 49/50\n",
      "100/100 [==============================] - 0s 156us/sample - loss: 0.0437 - mean_squared_error: 0.0437 - val_loss: 0.0329 - val_mean_squared_error: 0.0329\n"
     ]
    },
    {
     "name": "stdout",
     "output_type": "stream",
     "text": [
      "Epoch 50/50\n",
      "100/100 [==============================] - 0s 193us/sample - loss: 0.0432 - mean_squared_error: 0.0432 - val_loss: 0.0327 - val_mean_squared_error: 0.0327\n"
     ]
    }
   ],
   "source": [
    "#since on this dataset is very easy to overfit, I use the early stopping\n",
    "from tensorflow.contrib.keras.api.keras.callbacks import EarlyStopping\n",
    "es = EarlyStopping(monitor='val_loss', min_delta=1e-10, patience=10, verbose=1)\n",
    "\n",
    "\n",
    "history = model.fit(x=x_train_scal, y=y_train, \n",
    "          batch_size=32, epochs=50,\n",
    "          shuffle=True, # a good idea is to shuffle input before at each epoch\n",
    "          validation_data=(x_valid_scal, y_valid),  callbacks=[es])"
   ]
  },
  {
   "cell_type": "code",
   "execution_count": 10,
   "metadata": {},
   "outputs": [
    {
     "name": "stdout",
     "output_type": "stream",
     "text": [
      "10/10 [==============================] - 0s 277us/sample - loss: 0.0327 - mean_squared_error: 0.0327\n",
      "\n",
      "Validation loss: 0.03269707411527634\n",
      "Validation accuracy: 0.032697074\n"
     ]
    }
   ],
   "source": [
    "# evaluate model\n",
    "score = model.evaluate(x_valid_scal, y_valid, batch_size=32, verbose=1)\n",
    "\n",
    "# print performance\n",
    "print()\n",
    "print('Validation loss:', score[0])\n",
    "print('Validation accuracy:', score[1])\n",
    "nn_perf=score[1]"
   ]
  },
  {
   "cell_type": "code",
   "execution_count": 11,
   "metadata": {
    "scrolled": true
   },
   "outputs": [
    {
     "data": {
      "image/png": "[encoded data removed]",
      "text/plain": [
       "<Figure size 432x288 with 1 Axes>"
      ]
     },
     "metadata": {
      "needs_background": "light"
     },
     "output_type": "display_data"
    }
   ],
   "source": [
    "# look into training history\n",
    "# Plot training & validation loss values\n",
    "plt.plot(history.history['loss'])\n",
    "plt.plot(history.history['val_loss'])\n",
    "plt.title('Model loss')\n",
    "plt.ylabel('Loss')\n",
    "plt.xlabel('Epoch')\n",
    "plt.legend(['Train', 'Test'], loc='best')\n",
    "plt.show()"
   ]
  },
  {
   "cell_type": "markdown",
   "metadata": {},
   "source": [
    "From the graph of the loss is clear that 50 ephocs are quite too much: maybe 40 are enough. Furtermore you can note how the losses on training and on test are almost the same, from my experience usually in deep learning applications this is never a good thing, but it's true that the model is very much simpler than the one that usually neural networks are used to train on..."
   ]
  },
  {
   "cell_type": "markdown",
   "metadata": {},
   "source": [
    "## Comparing predicted data with true data \n",
    "\n",
    "In the following I compare predicted data in the validation set."
   ]
  },
  {
   "cell_type": "code",
   "execution_count": 12,
   "metadata": {},
   "outputs": [
    {
     "data": {
      "image/png": "[encoded data removed]",
      "text/plain": [
       "<Figure size 432x288 with 1 Axes>"
      ]
     },
     "metadata": {
      "needs_background": "light"
     },
     "output_type": "display_data"
    }
   ],
   "source": [
    "\n",
    "y_predicted = model.predict(x_valid_scal)\n",
    "\n",
    "#unnormalize data:\n",
    "x_valid_rev=scaler.inverse_transform(x_valid_scal)\n",
    "\n",
    "plt.scatter(x_valid_rev, y_predicted,color='r', label=\"Predicted\")\n",
    "plt.plot(x_valid_rev, y_target, label=\"True\")\n",
    "plt.legend()\n",
    "plt.grid(True)\n",
    "plt.show()"
   ]
  },
  {
   "cell_type": "markdown",
   "metadata": {},
   "source": [
    "## Note\n",
    "Neural networks are suitable for non-linear problems. For linear problems neural networks are actually bad performing and ''classical'' machine learning approches usually outperforms them.\n",
    "\n",
    "In the following lines I try a different model, simpler and faster. \n",
    "I will use sklearn, that implements almost all the \"classical\" machine learning approches."
   ]
  },
  {
   "cell_type": "code",
   "execution_count": 11,
   "metadata": {},
   "outputs": [],
   "source": [
    "from sklearn.linear_model import LinearRegression\n",
    "simple_model = LinearRegression()\n",
    "\n",
    "#x_train=x_train.reshape(-1, 1); #sklearn wants multi-dim array"
   ]
  },
  {
   "cell_type": "code",
   "execution_count": 12,
   "metadata": {},
   "outputs": [],
   "source": [
    "regression=simple_model.fit(x_train_scal,y_train)\n"
   ]
  },
  {
   "cell_type": "markdown",
   "metadata": {},
   "source": [
    "## Performance\n",
    "Mean squared error on validation set shows that this model, on this simple data set, is almost perfect."
   ]
  },
  {
   "cell_type": "code",
   "execution_count": 13,
   "metadata": {},
   "outputs": [
    {
     "name": "stdout",
     "output_type": "stream",
     "text": [
      "Neural network MSE (Validation set)\t 0.031787865\n",
      "Regression MSE(Validation set):\t\t 0.0327813706160902\n"
     ]
    }
   ],
   "source": [
    "from sklearn.metrics import mean_squared_error\n",
    "\n",
    "y_pred=simple_model.predict(x_valid_scal)\n",
    "reg_perf=mean_squared_error(y_valid, y_pred)\n",
    "\n",
    "print(\"Neural network MSE (Validation set)\\t\", nn_perf)\n",
    "print(\"Regression MSE(Validation set):\\t\\t\", reg_perf)"
   ]
  },
  {
   "cell_type": "markdown",
   "metadata": {},
   "source": [
    "## Visualizing results on validation set"
   ]
  },
  {
   "cell_type": "code",
   "execution_count": 14,
   "metadata": {},
   "outputs": [
    {
     "data": {
      "image/png": "[encoded data removed]",
      "text/plain": [
       "<Figure size 432x288 with 1 Axes>"
      ]
     },
     "metadata": {
      "needs_background": "light"
     },
     "output_type": "display_data"
    }
   ],
   "source": [
    "\n",
    "y_predicted = simple_model.predict(x_valid_scal)\n",
    "\n",
    "X_v=scaler.inverse_transform(x_valid_scal)\n",
    "X_t=scaler.inverse_transform(x_train_scal)\n",
    "\n",
    "plt.scatter(X_v, y_predicted,color='r', label=\"Predicted\")\n",
    "\n",
    "plt.plot(X_v, y_target, label=\"True\")\n",
    "plt.legend()\n",
    "plt.grid(True)\n",
    "plt.show()"
   ]
  },
  {
   "cell_type": "code",
   "execution_count": null,
   "metadata": {},
   "outputs": [],
   "source": []
  }
 ],
 "metadata": {
  "kernelspec": {
   "display_name": "Python 3",
   "language": "python",
   "name": "python3"
  },
  "language_info": {
   "codemirror_mode": {
    "name": "ipython",
    "version": 3
   },
   "file_extension": ".py",
   "mimetype": "text/x-python",
   "name": "python",
   "nbconvert_exporter": "python",
   "pygments_lexer": "ipython3",
   "version": "3.7.3"
  }
 },
 "nbformat": 4,
 "nbformat_minor": 2
}
