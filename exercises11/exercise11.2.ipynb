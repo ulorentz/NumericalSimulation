{
 "cells": [
  {
   "cell_type": "markdown",
   "metadata": {},
   "source": [
    "# Exercise 11.2\n",
    "Import libraries and generate data"
   ]
  },
  {
   "cell_type": "code",
   "execution_count": 1,
   "metadata": {},
   "outputs": [
    {
     "name": "stderr",
     "output_type": "stream",
     "text": [
      "WARNING: Logging before flag parsing goes to stderr.\n",
      "W0715 15:39:09.634570 140671119165056 __init__.py:308] Limited tf.compat.v2.summary API due to missing TensorBoard installation.\n"
     ]
    }
   ],
   "source": [
    "import os\n",
    "import tensorflow as tf"
   ]
  },
  {
   "cell_type": "code",
   "execution_count": 2,
   "metadata": {},
   "outputs": [],
   "source": [
    "# Importing the libraries\n",
    "import numpy as np\n",
    "import matplotlib.pyplot as plt\n",
    "\n",
    "def func(x):\n",
    "    return 4-3*x-2*np.power(x,2)-3*np.power(x,3)\n",
    "\n",
    "# generate training inputs\n",
    "np.random.seed(0)\n",
    "x_train = np.random.uniform(-1, 1, 1000)\n",
    "x_valid = np.random.uniform(-1, 1, 100)\n",
    "x_valid.sort()\n",
    "x_train.sort()\n",
    "\n",
    "y_target_train = func(x_train) \n",
    "y_target_valid = func(x_valid) \n",
    "\n",
    "sigma = 0.2 # noise standard deviation, for the moment it is absent\n",
    "y_train = np.random.normal(func(x_train), sigma) # actual measures from which we want to guess regression parameters\n",
    "y_valid = np.random.normal(func(x_valid), sigma)"
   ]
  },
  {
   "cell_type": "code",
   "execution_count": 3,
   "metadata": {},
   "outputs": [
    {
     "data": {
      "image/png": "[encoded data removed]",
      "text/plain": [
       "<Figure size 432x288 with 1 Axes>"
      ]
     },
     "metadata": {
      "needs_background": "light"
     },
     "output_type": "display_data"
    }
   ],
   "source": [
    "# plot training and target dataset\n",
    "import matplotlib.pyplot as plt\n",
    "plt.plot(x_train, y_target_train, label=\"Ideal curve\")\n",
    "plt.scatter(x_valid, y_valid, color='r', label=\"Validation set\" )\n",
    "plt.legend()\n",
    "plt.grid(True); plt.show()"
   ]
  },
  {
   "cell_type": "markdown",
   "metadata": {},
   "source": [
    "## Data Preprocessing\n",
    "As I wrote in the 11.1, some kind of normalization is needed and here I will do so."
   ]
  },
  {
   "cell_type": "code",
   "execution_count": 4,
   "metadata": {},
   "outputs": [],
   "source": [
    "from sklearn.preprocessing import StandardScaler\n",
    "scaler = StandardScaler()\n",
    "x_train_scal = scaler.fit_transform(x_train.reshape(-1,1))\n",
    "x_valid_scal = scaler.transform(x_valid.reshape(-1,1))"
   ]
  },
  {
   "cell_type": "markdown",
   "metadata": {},
   "source": [
    "## Building a first model\n",
    "I build a simple \"exploring\" NN and evaluate it's performance, later I will use a \"trick\" to explore different hyperparameters.\n",
    "\n",
    "### Choosing hyperparameters\n",
    "Even not knowing that data comes from a third grade polinomial, looking at its representation is straightforward to see that data is simple and comes from some kind of polinomial. Because of that, we don't need much neurons: just an input layer and an output one should be enough. Furthermore, given the low dimension of the polynomial (not havily changing in the interval) 4 or 5 input neurons should be enough. For the activation, in this situation, a function that can both activate and \"negative activate\" (a kind of suppression) the neuron is useful.  The output layer, instead, must have a linear activation in order to be able to represent all real possible outputs. For the input layer I will use $tanh$; an alternative could be having more neurons and using a $sigmoid$. From my experience, using $relu$ or some other rectified activators for  fitting data that has some polynomial shape works very badly (but, honestly, I wouldn't even use a NN for this kind of data). "
   ]
  },
  {
   "cell_type": "code",
   "execution_count": 5,
   "metadata": {},
   "outputs": [
    {
     "name": "stderr",
     "output_type": "stream",
     "text": [
      "W0715 15:39:10.701508 140671119165056 deprecation.py:506] From /usr/lib/python3.7/site-packages/tensorflow/python/ops/init_ops.py:1251: calling VarianceScaling.__init__ (from tensorflow.python.ops.init_ops) with dtype is deprecated and will be removed in a future version.\n",
      "Instructions for updating:\n",
      "Call initializer instance with the dtype argument instead of passing it to the constructor\n"
     ]
    }
   ],
   "source": [
    "from tensorflow import keras\n",
    "\n",
    "from tensorflow.keras.models import Sequential\n",
    "from tensorflow.keras.layers import Dense, Activation\n",
    "\n",
    "model = keras.Sequential()\n",
    "model.add(Dense(units=64, input_shape=(1,), activation=\"tanh\" ))\n",
    "model.add(Dense(units=1, activation=\"linear\"))\n",
    "\n",
    "# compile the model choosing optimizer, loss and metrics objects\n",
    "model.compile(optimizer='sgd', loss='mse', metrics=['mse'], )"
   ]
  },
  {
   "cell_type": "code",
   "execution_count": 6,
   "metadata": {},
   "outputs": [
    {
     "name": "stdout",
     "output_type": "stream",
     "text": [
      "Train on 1000 samples, validate on 100 samples\n",
      "Epoch 1/100\n",
      "1000/1000 [==============================] - 0s 186us/sample - loss: 4.8231 - mean_squared_error: 4.8231 - val_loss: 0.5785 - val_mean_squared_error: 0.5785\n",
      "Epoch 2/100\n",
      "1000/1000 [==============================] - 0s 59us/sample - loss: 0.5136 - mean_squared_error: 0.5136 - val_loss: 0.5541 - val_mean_squared_error: 0.5541\n",
      "Epoch 3/100\n",
      "1000/1000 [==============================] - 0s 76us/sample - loss: 0.5045 - mean_squared_error: 0.5045 - val_loss: 0.5428 - val_mean_squared_error: 0.5428\n",
      "Epoch 4/100\n",
      "1000/1000 [==============================] - 0s 79us/sample - loss: 0.5007 - mean_squared_error: 0.5007 - val_loss: 0.5375 - val_mean_squared_error: 0.5375\n",
      "Epoch 5/100\n",
      "1000/1000 [==============================] - 0s 77us/sample - loss: 0.4949 - mean_squared_error: 0.4949 - val_loss: 0.5410 - val_mean_squared_error: 0.5410\n",
      "Epoch 6/100\n",
      "1000/1000 [==============================] - 0s 79us/sample - loss: 0.4874 - mean_squared_error: 0.4874 - val_loss: 0.5376 - val_mean_squared_error: 0.5376\n",
      "Epoch 7/100\n",
      "1000/1000 [==============================] - 0s 74us/sample - loss: 0.4878 - mean_squared_error: 0.4878 - val_loss: 0.5246 - val_mean_squared_error: 0.5246\n",
      "Epoch 8/100\n",
      "1000/1000 [==============================] - 0s 76us/sample - loss: 0.4806 - mean_squared_error: 0.4806 - val_loss: 0.5176 - val_mean_squared_error: 0.5176\n",
      "Epoch 9/100\n",
      "1000/1000 [==============================] - 0s 82us/sample - loss: 0.4750 - mean_squared_error: 0.4750 - val_loss: 0.5104 - val_mean_squared_error: 0.5104\n",
      "Epoch 10/100\n",
      "1000/1000 [==============================] - 0s 100us/sample - loss: 0.4709 - mean_squared_error: 0.4709 - val_loss: 0.5126 - val_mean_squared_error: 0.5126\n",
      "Epoch 11/100\n",
      "1000/1000 [==============================] - 0s 111us/sample - loss: 0.4683 - mean_squared_error: 0.4683 - val_loss: 0.5007 - val_mean_squared_error: 0.5007\n",
      "Epoch 12/100\n",
      "1000/1000 [==============================] - 0s 111us/sample - loss: 0.4609 - mean_squared_error: 0.4609 - val_loss: 0.4934 - val_mean_squared_error: 0.4934\n",
      "Epoch 13/100\n",
      "1000/1000 [==============================] - 0s 96us/sample - loss: 0.4559 - mean_squared_error: 0.4559 - val_loss: 0.4890 - val_mean_squared_error: 0.4890\n",
      "Epoch 14/100\n",
      "1000/1000 [==============================] - 0s 74us/sample - loss: 0.4483 - mean_squared_error: 0.4483 - val_loss: 0.4884 - val_mean_squared_error: 0.4884\n",
      "Epoch 15/100\n",
      "1000/1000 [==============================] - 0s 85us/sample - loss: 0.4460 - mean_squared_error: 0.4460 - val_loss: 0.4759 - val_mean_squared_error: 0.4759\n",
      "Epoch 16/100\n",
      "1000/1000 [==============================] - 0s 69us/sample - loss: 0.4404 - mean_squared_error: 0.4404 - val_loss: 0.4729 - val_mean_squared_error: 0.4729\n",
      "Epoch 17/100\n",
      "1000/1000 [==============================] - 0s 67us/sample - loss: 0.4347 - mean_squared_error: 0.4347 - val_loss: 0.4669 - val_mean_squared_error: 0.4669\n",
      "Epoch 18/100\n",
      "1000/1000 [==============================] - 0s 77us/sample - loss: 0.4285 - mean_squared_error: 0.4285 - val_loss: 0.4657 - val_mean_squared_error: 0.4657\n",
      "Epoch 19/100\n",
      "1000/1000 [==============================] - 0s 93us/sample - loss: 0.4247 - mean_squared_error: 0.4247 - val_loss: 0.4563 - val_mean_squared_error: 0.4563\n",
      "Epoch 20/100\n",
      "1000/1000 [==============================] - 0s 79us/sample - loss: 0.4188 - mean_squared_error: 0.4188 - val_loss: 0.4537 - val_mean_squared_error: 0.4537\n",
      "Epoch 21/100\n",
      "1000/1000 [==============================] - 0s 85us/sample - loss: 0.4137 - mean_squared_error: 0.4137 - val_loss: 0.4432 - val_mean_squared_error: 0.4432\n",
      "Epoch 22/100\n",
      "1000/1000 [==============================] - 0s 99us/sample - loss: 0.4087 - mean_squared_error: 0.4087 - val_loss: 0.4402 - val_mean_squared_error: 0.4402\n",
      "Epoch 23/100\n",
      "1000/1000 [==============================] - 0s 97us/sample - loss: 0.4040 - mean_squared_error: 0.4040 - val_loss: 0.4404 - val_mean_squared_error: 0.4404\n",
      "Epoch 24/100\n",
      "1000/1000 [==============================] - 0s 83us/sample - loss: 0.3985 - mean_squared_error: 0.3985 - val_loss: 0.4334 - val_mean_squared_error: 0.4334\n",
      "Epoch 25/100\n",
      "1000/1000 [==============================] - 0s 57us/sample - loss: 0.3918 - mean_squared_error: 0.3918 - val_loss: 0.4422 - val_mean_squared_error: 0.4422\n",
      "Epoch 26/100\n",
      "1000/1000 [==============================] - 0s 54us/sample - loss: 0.3897 - mean_squared_error: 0.3897 - val_loss: 0.4288 - val_mean_squared_error: 0.4288\n",
      "Epoch 27/100\n",
      "1000/1000 [==============================] - 0s 57us/sample - loss: 0.3838 - mean_squared_error: 0.3838 - val_loss: 0.4161 - val_mean_squared_error: 0.4161\n",
      "Epoch 28/100\n",
      "1000/1000 [==============================] - 0s 60us/sample - loss: 0.3754 - mean_squared_error: 0.3754 - val_loss: 0.4047 - val_mean_squared_error: 0.4047\n",
      "Epoch 29/100\n",
      "1000/1000 [==============================] - 0s 61us/sample - loss: 0.3716 - mean_squared_error: 0.3716 - val_loss: 0.4160 - val_mean_squared_error: 0.4160\n",
      "Epoch 30/100\n",
      "1000/1000 [==============================] - 0s 63us/sample - loss: 0.3658 - mean_squared_error: 0.3658 - val_loss: 0.4011 - val_mean_squared_error: 0.4011\n",
      "Epoch 31/100\n",
      "1000/1000 [==============================] - 0s 77us/sample - loss: 0.3613 - mean_squared_error: 0.3613 - val_loss: 0.3996 - val_mean_squared_error: 0.3996\n",
      "Epoch 32/100\n",
      "1000/1000 [==============================] - 0s 73us/sample - loss: 0.3565 - mean_squared_error: 0.3565 - val_loss: 0.3963 - val_mean_squared_error: 0.3963\n",
      "Epoch 33/100\n",
      "1000/1000 [==============================] - 0s 85us/sample - loss: 0.3507 - mean_squared_error: 0.3507 - val_loss: 0.3960 - val_mean_squared_error: 0.3960\n",
      "Epoch 34/100\n",
      "1000/1000 [==============================] - 0s 75us/sample - loss: 0.3465 - mean_squared_error: 0.3465 - val_loss: 0.3870 - val_mean_squared_error: 0.3870\n",
      "Epoch 35/100\n",
      "1000/1000 [==============================] - 0s 93us/sample - loss: 0.3410 - mean_squared_error: 0.3410 - val_loss: 0.3813 - val_mean_squared_error: 0.3813\n",
      "Epoch 36/100\n",
      "1000/1000 [==============================] - 0s 81us/sample - loss: 0.3380 - mean_squared_error: 0.3380 - val_loss: 0.3807 - val_mean_squared_error: 0.3807\n",
      "Epoch 37/100\n",
      "1000/1000 [==============================] - 0s 66us/sample - loss: 0.3333 - mean_squared_error: 0.3333 - val_loss: 0.3674 - val_mean_squared_error: 0.3674\n",
      "Epoch 38/100\n",
      "1000/1000 [==============================] - 0s 57us/sample - loss: 0.3265 - mean_squared_error: 0.3265 - val_loss: 0.3606 - val_mean_squared_error: 0.3606\n",
      "Epoch 39/100\n",
      "1000/1000 [==============================] - 0s 90us/sample - loss: 0.3210 - mean_squared_error: 0.3210 - val_loss: 0.3726 - val_mean_squared_error: 0.3726\n",
      "Epoch 40/100\n",
      "1000/1000 [==============================] - 0s 133us/sample - loss: 0.3170 - mean_squared_error: 0.3170 - val_loss: 0.3662 - val_mean_squared_error: 0.3662\n",
      "Epoch 41/100\n",
      "1000/1000 [==============================] - 0s 112us/sample - loss: 0.3129 - mean_squared_error: 0.3129 - val_loss: 0.3465 - val_mean_squared_error: 0.3465\n",
      "Epoch 42/100\n",
      "1000/1000 [==============================] - 0s 123us/sample - loss: 0.3097 - mean_squared_error: 0.3097 - val_loss: 0.3535 - val_mean_squared_error: 0.3535\n",
      "Epoch 43/100\n",
      "1000/1000 [==============================] - 0s 111us/sample - loss: 0.3048 - mean_squared_error: 0.3048 - val_loss: 0.3438 - val_mean_squared_error: 0.3438\n",
      "Epoch 44/100\n",
      "1000/1000 [==============================] - 0s 122us/sample - loss: 0.3001 - mean_squared_error: 0.3001 - val_loss: 0.3350 - val_mean_squared_error: 0.3350\n",
      "Epoch 45/100\n",
      "1000/1000 [==============================] - 0s 107us/sample - loss: 0.2965 - mean_squared_error: 0.2965 - val_loss: 0.3290 - val_mean_squared_error: 0.3290\n",
      "Epoch 46/100\n",
      "1000/1000 [==============================] - 0s 124us/sample - loss: 0.2915 - mean_squared_error: 0.2915 - val_loss: 0.3253 - val_mean_squared_error: 0.3253\n",
      "Epoch 47/100\n",
      "1000/1000 [==============================] - 0s 132us/sample - loss: 0.2873 - mean_squared_error: 0.2873 - val_loss: 0.3222 - val_mean_squared_error: 0.3222\n",
      "Epoch 48/100\n",
      "1000/1000 [==============================] - 0s 70us/sample - loss: 0.2824 - mean_squared_error: 0.2824 - val_loss: 0.3243 - val_mean_squared_error: 0.3243\n",
      "Epoch 49/100\n"
     ]
    },
    {
     "name": "stdout",
     "output_type": "stream",
     "text": [
      "1000/1000 [==============================] - 0s 76us/sample - loss: 0.2797 - mean_squared_error: 0.2797 - val_loss: 0.3242 - val_mean_squared_error: 0.3242\n",
      "Epoch 50/100\n",
      "1000/1000 [==============================] - 0s 71us/sample - loss: 0.2750 - mean_squared_error: 0.2750 - val_loss: 0.3114 - val_mean_squared_error: 0.3114\n",
      "Epoch 51/100\n",
      "1000/1000 [==============================] - 0s 78us/sample - loss: 0.2707 - mean_squared_error: 0.2707 - val_loss: 0.3048 - val_mean_squared_error: 0.3048\n",
      "Epoch 52/100\n",
      "1000/1000 [==============================] - 0s 92us/sample - loss: 0.2664 - mean_squared_error: 0.2664 - val_loss: 0.3074 - val_mean_squared_error: 0.3074\n",
      "Epoch 53/100\n",
      "1000/1000 [==============================] - 0s 86us/sample - loss: 0.2636 - mean_squared_error: 0.2636 - val_loss: 0.3109 - val_mean_squared_error: 0.3109\n",
      "Epoch 54/100\n",
      "1000/1000 [==============================] - 0s 92us/sample - loss: 0.2594 - mean_squared_error: 0.2594 - val_loss: 0.2957 - val_mean_squared_error: 0.2957\n",
      "Epoch 55/100\n",
      "1000/1000 [==============================] - 0s 94us/sample - loss: 0.2550 - mean_squared_error: 0.2550 - val_loss: 0.2951 - val_mean_squared_error: 0.2951\n",
      "Epoch 56/100\n",
      "1000/1000 [==============================] - 0s 100us/sample - loss: 0.2513 - mean_squared_error: 0.2513 - val_loss: 0.2974 - val_mean_squared_error: 0.2974\n",
      "Epoch 57/100\n",
      "1000/1000 [==============================] - 0s 82us/sample - loss: 0.2472 - mean_squared_error: 0.2472 - val_loss: 0.2877 - val_mean_squared_error: 0.2877\n",
      "Epoch 58/100\n",
      "1000/1000 [==============================] - 0s 83us/sample - loss: 0.2430 - mean_squared_error: 0.2430 - val_loss: 0.2972 - val_mean_squared_error: 0.2972\n",
      "Epoch 59/100\n",
      "1000/1000 [==============================] - 0s 82us/sample - loss: 0.2381 - mean_squared_error: 0.2381 - val_loss: 0.2740 - val_mean_squared_error: 0.2740\n",
      "Epoch 60/100\n",
      "1000/1000 [==============================] - 0s 76us/sample - loss: 0.2366 - mean_squared_error: 0.2366 - val_loss: 0.2831 - val_mean_squared_error: 0.2831\n",
      "Epoch 61/100\n",
      "1000/1000 [==============================] - 0s 77us/sample - loss: 0.2321 - mean_squared_error: 0.2321 - val_loss: 0.2731 - val_mean_squared_error: 0.2731\n",
      "Epoch 62/100\n",
      "1000/1000 [==============================] - 0s 81us/sample - loss: 0.2276 - mean_squared_error: 0.2276 - val_loss: 0.2620 - val_mean_squared_error: 0.2620\n",
      "Epoch 63/100\n",
      "1000/1000 [==============================] - 0s 82us/sample - loss: 0.2239 - mean_squared_error: 0.2239 - val_loss: 0.2551 - val_mean_squared_error: 0.2551\n",
      "Epoch 64/100\n",
      "1000/1000 [==============================] - 0s 90us/sample - loss: 0.2193 - mean_squared_error: 0.2193 - val_loss: 0.2597 - val_mean_squared_error: 0.2597\n",
      "Epoch 65/100\n",
      "1000/1000 [==============================] - 0s 73us/sample - loss: 0.2153 - mean_squared_error: 0.2153 - val_loss: 0.2458 - val_mean_squared_error: 0.2458\n",
      "Epoch 66/100\n",
      "1000/1000 [==============================] - 0s 86us/sample - loss: 0.2114 - mean_squared_error: 0.2114 - val_loss: 0.2452 - val_mean_squared_error: 0.2452\n",
      "Epoch 67/100\n",
      "1000/1000 [==============================] - 0s 79us/sample - loss: 0.2069 - mean_squared_error: 0.2069 - val_loss: 0.2419 - val_mean_squared_error: 0.2419\n",
      "Epoch 68/100\n",
      "1000/1000 [==============================] - 0s 76us/sample - loss: 0.2037 - mean_squared_error: 0.2037 - val_loss: 0.2338 - val_mean_squared_error: 0.2338\n",
      "Epoch 69/100\n",
      "1000/1000 [==============================] - 0s 79us/sample - loss: 0.1997 - mean_squared_error: 0.1997 - val_loss: 0.2307 - val_mean_squared_error: 0.2307\n",
      "Epoch 70/100\n",
      "1000/1000 [==============================] - 0s 84us/sample - loss: 0.1953 - mean_squared_error: 0.1953 - val_loss: 0.2266 - val_mean_squared_error: 0.2266\n",
      "Epoch 71/100\n",
      "1000/1000 [==============================] - 0s 75us/sample - loss: 0.1905 - mean_squared_error: 0.1905 - val_loss: 0.2354 - val_mean_squared_error: 0.2354\n",
      "Epoch 72/100\n",
      "1000/1000 [==============================] - 0s 89us/sample - loss: 0.1875 - mean_squared_error: 0.1875 - val_loss: 0.2185 - val_mean_squared_error: 0.2185\n",
      "Epoch 73/100\n",
      "1000/1000 [==============================] - 0s 88us/sample - loss: 0.1831 - mean_squared_error: 0.1831 - val_loss: 0.2227 - val_mean_squared_error: 0.2227\n",
      "Epoch 74/100\n",
      "1000/1000 [==============================] - 0s 90us/sample - loss: 0.1785 - mean_squared_error: 0.1785 - val_loss: 0.2130 - val_mean_squared_error: 0.2130\n",
      "Epoch 75/100\n",
      "1000/1000 [==============================] - 0s 86us/sample - loss: 0.1738 - mean_squared_error: 0.1738 - val_loss: 0.2022 - val_mean_squared_error: 0.2022\n",
      "Epoch 76/100\n",
      "1000/1000 [==============================] - 0s 87us/sample - loss: 0.1700 - mean_squared_error: 0.1700 - val_loss: 0.2015 - val_mean_squared_error: 0.2015\n",
      "Epoch 77/100\n",
      "1000/1000 [==============================] - 0s 86us/sample - loss: 0.1659 - mean_squared_error: 0.1659 - val_loss: 0.2019 - val_mean_squared_error: 0.2019\n",
      "Epoch 78/100\n",
      "1000/1000 [==============================] - 0s 75us/sample - loss: 0.1622 - mean_squared_error: 0.1622 - val_loss: 0.1883 - val_mean_squared_error: 0.1883\n",
      "Epoch 79/100\n",
      "1000/1000 [==============================] - 0s 86us/sample - loss: 0.1561 - mean_squared_error: 0.1561 - val_loss: 0.1889 - val_mean_squared_error: 0.1889\n",
      "Epoch 80/100\n",
      "1000/1000 [==============================] - 0s 75us/sample - loss: 0.1532 - mean_squared_error: 0.1532 - val_loss: 0.1848 - val_mean_squared_error: 0.1848\n",
      "Epoch 81/100\n",
      "1000/1000 [==============================] - 0s 83us/sample - loss: 0.1488 - mean_squared_error: 0.1488 - val_loss: 0.1744 - val_mean_squared_error: 0.1744\n",
      "Epoch 82/100\n",
      "1000/1000 [==============================] - 0s 77us/sample - loss: 0.1448 - mean_squared_error: 0.1448 - val_loss: 0.1676 - val_mean_squared_error: 0.1676\n",
      "Epoch 83/100\n",
      "1000/1000 [==============================] - 0s 78us/sample - loss: 0.1410 - mean_squared_error: 0.1410 - val_loss: 0.1661 - val_mean_squared_error: 0.1661\n",
      "Epoch 84/100\n",
      "1000/1000 [==============================] - 0s 85us/sample - loss: 0.1364 - mean_squared_error: 0.1364 - val_loss: 0.1606 - val_mean_squared_error: 0.1606\n",
      "Epoch 85/100\n",
      "1000/1000 [==============================] - 0s 97us/sample - loss: 0.1325 - mean_squared_error: 0.1325 - val_loss: 0.1528 - val_mean_squared_error: 0.1528\n",
      "Epoch 86/100\n",
      "1000/1000 [==============================] - 0s 106us/sample - loss: 0.1290 - mean_squared_error: 0.1290 - val_loss: 0.1556 - val_mean_squared_error: 0.1556\n",
      "Epoch 87/100\n",
      "1000/1000 [==============================] - 0s 99us/sample - loss: 0.1250 - mean_squared_error: 0.1250 - val_loss: 0.1573 - val_mean_squared_error: 0.1573\n",
      "Epoch 88/100\n",
      "1000/1000 [==============================] - 0s 97us/sample - loss: 0.1209 - mean_squared_error: 0.1209 - val_loss: 0.1403 - val_mean_squared_error: 0.1403\n",
      "Epoch 89/100\n",
      "1000/1000 [==============================] - 0s 93us/sample - loss: 0.1172 - mean_squared_error: 0.1172 - val_loss: 0.1352 - val_mean_squared_error: 0.1352\n",
      "Epoch 90/100\n",
      "1000/1000 [==============================] - 0s 107us/sample - loss: 0.1133 - mean_squared_error: 0.1133 - val_loss: 0.1382 - val_mean_squared_error: 0.1382\n",
      "Epoch 91/100\n",
      "1000/1000 [==============================] - 0s 107us/sample - loss: 0.1096 - mean_squared_error: 0.1096 - val_loss: 0.1259 - val_mean_squared_error: 0.1259\n",
      "Epoch 92/100\n",
      "1000/1000 [==============================] - 0s 132us/sample - loss: 0.1066 - mean_squared_error: 0.1066 - val_loss: 0.1233 - val_mean_squared_error: 0.1233\n",
      "Epoch 93/100\n",
      "1000/1000 [==============================] - 0s 120us/sample - loss: 0.1035 - mean_squared_error: 0.1035 - val_loss: 0.1280 - val_mean_squared_error: 0.1280\n",
      "Epoch 94/100\n",
      "1000/1000 [==============================] - 0s 133us/sample - loss: 0.1001 - mean_squared_error: 0.1001 - val_loss: 0.1188 - val_mean_squared_error: 0.1188\n",
      "Epoch 95/100\n",
      "1000/1000 [==============================] - 0s 114us/sample - loss: 0.0973 - mean_squared_error: 0.0973 - val_loss: 0.1146 - val_mean_squared_error: 0.1146\n",
      "Epoch 96/100\n",
      "1000/1000 [==============================] - 0s 112us/sample - loss: 0.0938 - mean_squared_error: 0.0938 - val_loss: 0.1098 - val_mean_squared_error: 0.1098\n",
      "Epoch 97/100\n"
     ]
    },
    {
     "name": "stdout",
     "output_type": "stream",
     "text": [
      "1000/1000 [==============================] - 0s 120us/sample - loss: 0.0912 - mean_squared_error: 0.0912 - val_loss: 0.1115 - val_mean_squared_error: 0.1115\n",
      "Epoch 98/100\n",
      "1000/1000 [==============================] - 0s 97us/sample - loss: 0.0887 - mean_squared_error: 0.0887 - val_loss: 0.1067 - val_mean_squared_error: 0.1067\n",
      "Epoch 99/100\n",
      "1000/1000 [==============================] - 0s 98us/sample - loss: 0.0865 - mean_squared_error: 0.0865 - val_loss: 0.1036 - val_mean_squared_error: 0.1036\n",
      "Epoch 100/100\n",
      "1000/1000 [==============================] - 0s 98us/sample - loss: 0.0842 - mean_squared_error: 0.0842 - val_loss: 0.1035 - val_mean_squared_error: 0.1035\n"
     ]
    }
   ],
   "source": [
    "#since on this dataset is very easy to overfit, I use the early stopping\n",
    "from tensorflow.contrib.keras.api.keras.callbacks import EarlyStopping, ReduceLROnPlateau\n",
    "\n",
    "es = EarlyStopping(monitor='val_loss', min_delta=1e-10, patience=10, verbose=1)\n",
    "#rlr = ReduceLROnPlateau(monitor='val_loss', factor=0.5, patience=5, verbose=1)\n",
    "\n",
    "history = model.fit(x=x_train_scal, y=y_train, \n",
    "          batch_size=32, epochs=100,\n",
    "          shuffle=True, # a good idea is to shuffle input before at each epoch\n",
    "          validation_data=(x_valid_scal, y_valid), callbacks=[es])"
   ]
  },
  {
   "cell_type": "markdown",
   "metadata": {},
   "source": [
    "## Evaluate performance"
   ]
  },
  {
   "cell_type": "code",
   "execution_count": 7,
   "metadata": {},
   "outputs": [
    {
     "name": "stdout",
     "output_type": "stream",
     "text": [
      "100/100 [==============================] - 0s 146us/sample - loss: 0.1035 - mean_squared_error: 0.1035\n",
      "\n",
      "Validation loss: 0.10354095697402954\n",
      "Validation accuracy: 0.103540964\n"
     ]
    }
   ],
   "source": [
    "# evaluate model\n",
    "score = model.evaluate(x_valid_scal, y_valid, batch_size=32, verbose=1)\n",
    "\n",
    "# print performance\n",
    "print()\n",
    "print('Validation loss:', score[0])\n",
    "print('Validation accuracy:', score[1])\n",
    "nn_perf=score[1]"
   ]
  },
  {
   "cell_type": "code",
   "execution_count": 8,
   "metadata": {},
   "outputs": [
    {
     "data": {
      "image/png": "[encoded data removed]",
      "text/plain": [
       "<Figure size 432x288 with 1 Axes>"
      ]
     },
     "metadata": {
      "needs_background": "light"
     },
     "output_type": "display_data"
    }
   ],
   "source": [
    "# look into training history\n",
    "# Plot training & validation loss values\n",
    "plt.plot(history.history['loss'])\n",
    "plt.plot(history.history['val_loss'])\n",
    "plt.title('Model loss')\n",
    "plt.ylabel('Loss')\n",
    "plt.xlabel('Epoch')\n",
    "plt.legend(['Train', 'Test'], loc='best')\n",
    "plt.show()"
   ]
  },
  {
   "cell_type": "code",
   "execution_count": 9,
   "metadata": {},
   "outputs": [
    {
     "data": {
      "image/png": "[encoded data removed]",
      "text/plain": [
       "<Figure size 432x288 with 1 Axes>"
      ]
     },
     "metadata": {
      "needs_background": "light"
     },
     "output_type": "display_data"
    }
   ],
   "source": [
    "\n",
    "y_predicted = model.predict(x_valid_scal)\n",
    "\n",
    "#unnormalize data:\n",
    "x_valid_rev=scaler.inverse_transform(x_valid_scal)\n",
    "\n",
    "plt.scatter(x_valid_rev, y_predicted,color='r', label=\"Predicted\")\n",
    "plt.plot(x_valid_rev, y_target_valid, label=\"True\")\n",
    "plt.legend()\n",
    "plt.grid(True)\n",
    "plt.show()"
   ]
  },
  {
   "cell_type": "markdown",
   "metadata": {},
   "source": [
    "## Exploring hyperparameters space\n",
    "I will use a powerfull tool of keras and sklearn to explore hyperparameters of the model: the GridSearch.\n",
    "In the following code I have commented many of the possible parameters to search: this is becouse it's computationally very intense, if you are curious just uncomment."
   ]
  },
  {
   "cell_type": "code",
   "execution_count": 10,
   "metadata": {},
   "outputs": [
    {
     "name": "stdout",
     "output_type": "stream",
     "text": [
      "Fitting 3 folds for each of 8 candidates, totalling 24 fits\n"
     ]
    },
    {
     "name": "stderr",
     "output_type": "stream",
     "text": [
      "[Parallel(n_jobs=-1)]: Using backend LokyBackend with 4 concurrent workers.\n",
      "[Parallel(n_jobs=-1)]: Done  24 out of  24 | elapsed:   29.9s finished\n",
      "/usr/lib/python3.7/site-packages/sklearn/model_selection/_search.py:813: DeprecationWarning: The default of the `iid` parameter will change from True to False in version 0.22 and will be removed in 0.24. This will change numeric results when test-set sizes are unequal.\n",
      "  DeprecationWarning)\n"
     ]
    },
    {
     "name": "stdout",
     "output_type": "stream",
     "text": [
      "Epoch 1/50\n",
      "1000/1000 [==============================] - 0s 111us/sample - loss: 19.1451 - mean_squared_error: 19.1451\n",
      "Epoch 2/50\n",
      "1000/1000 [==============================] - 0s 54us/sample - loss: 17.5206 - mean_squared_error: 17.5206\n",
      "Epoch 3/50\n",
      "1000/1000 [==============================] - 0s 50us/sample - loss: 15.9270 - mean_squared_error: 15.9270\n",
      "Epoch 4/50\n",
      "1000/1000 [==============================] - 0s 79us/sample - loss: 14.3566 - mean_squared_error: 14.3566\n",
      "Epoch 5/50\n",
      "1000/1000 [==============================] - 0s 74us/sample - loss: 12.8359 - mean_squared_error: 12.8359\n",
      "Epoch 6/50\n",
      "1000/1000 [==============================] - 0s 85us/sample - loss: 11.3930 - mean_squared_error: 11.3930\n",
      "Epoch 7/50\n",
      "1000/1000 [==============================] - 0s 79us/sample - loss: 10.0266 - mean_squared_error: 10.0266\n",
      "Epoch 8/50\n",
      "1000/1000 [==============================] - 0s 80us/sample - loss: 8.7570 - mean_squared_error: 8.7570\n",
      "Epoch 9/50\n",
      "1000/1000 [==============================] - 0s 83us/sample - loss: 7.5851 - mean_squared_error: 7.5851\n",
      "Epoch 10/50\n",
      "1000/1000 [==============================] - 0s 68us/sample - loss: 6.5105 - mean_squared_error: 6.5105\n",
      "Epoch 11/50\n",
      "1000/1000 [==============================] - 0s 63us/sample - loss: 5.5436 - mean_squared_error: 5.5436\n",
      "Epoch 12/50\n",
      "1000/1000 [==============================] - 0s 69us/sample - loss: 4.6785 - mean_squared_error: 4.6785\n",
      "Epoch 13/50\n",
      "1000/1000 [==============================] - 0s 75us/sample - loss: 3.9221 - mean_squared_error: 3.9221\n",
      "Epoch 14/50\n",
      "1000/1000 [==============================] - 0s 81us/sample - loss: 3.2590 - mean_squared_error: 3.2590\n",
      "Epoch 15/50\n",
      "1000/1000 [==============================] - 0s 58us/sample - loss: 2.6942 - mean_squared_error: 2.6942\n",
      "Epoch 16/50\n",
      "1000/1000 [==============================] - 0s 70us/sample - loss: 2.2171 - mean_squared_error: 2.2171\n",
      "Epoch 17/50\n",
      "1000/1000 [==============================] - 0s 65us/sample - loss: 1.8150 - mean_squared_error: 1.8150\n",
      "Epoch 18/50\n",
      "1000/1000 [==============================] - 0s 58us/sample - loss: 1.4872 - mean_squared_error: 1.4872\n",
      "Epoch 19/50\n",
      "1000/1000 [==============================] - 0s 64us/sample - loss: 1.2250 - mean_squared_error: 1.2250\n",
      "Epoch 20/50\n",
      "1000/1000 [==============================] - 0s 57us/sample - loss: 1.0227 - mean_squared_error: 1.0227\n",
      "Epoch 21/50\n",
      "1000/1000 [==============================] - 0s 68us/sample - loss: 0.8626 - mean_squared_error: 0.8626\n",
      "Epoch 22/50\n",
      "1000/1000 [==============================] - 0s 65us/sample - loss: 0.7417 - mean_squared_error: 0.7417\n",
      "Epoch 23/50\n",
      "1000/1000 [==============================] - 0s 83us/sample - loss: 0.6510 - mean_squared_error: 0.6510\n",
      "Epoch 24/50\n",
      "1000/1000 [==============================] - 0s 54us/sample - loss: 0.5837 - mean_squared_error: 0.5837\n",
      "Epoch 25/50\n",
      "1000/1000 [==============================] - 0s 67us/sample - loss: 0.5329 - mean_squared_error: 0.5329\n",
      "Epoch 26/50\n",
      "1000/1000 [==============================] - 0s 62us/sample - loss: 0.4968 - mean_squared_error: 0.4968\n",
      "Epoch 27/50\n",
      "1000/1000 [==============================] - 0s 74us/sample - loss: 0.4704 - mean_squared_error: 0.4704\n",
      "Epoch 28/50\n",
      "1000/1000 [==============================] - 0s 81us/sample - loss: 0.4512 - mean_squared_error: 0.4512\n",
      "Epoch 29/50\n",
      "1000/1000 [==============================] - 0s 86us/sample - loss: 0.4375 - mean_squared_error: 0.4375\n",
      "Epoch 30/50\n",
      "1000/1000 [==============================] - 0s 93us/sample - loss: 0.4272 - mean_squared_error: 0.4272\n",
      "Epoch 31/50\n",
      "1000/1000 [==============================] - 0s 72us/sample - loss: 0.4194 - mean_squared_error: 0.4194\n",
      "Epoch 32/50\n",
      "1000/1000 [==============================] - 0s 75us/sample - loss: 0.4138 - mean_squared_error: 0.4138\n",
      "Epoch 33/50\n",
      "1000/1000 [==============================] - 0s 110us/sample - loss: 0.4089 - mean_squared_error: 0.4089\n",
      "Epoch 34/50\n",
      "1000/1000 [==============================] - 0s 71us/sample - loss: 0.4051 - mean_squared_error: 0.4051\n",
      "Epoch 35/50\n",
      "1000/1000 [==============================] - 0s 67us/sample - loss: 0.4018 - mean_squared_error: 0.4018\n",
      "Epoch 36/50\n",
      "1000/1000 [==============================] - 0s 78us/sample - loss: 0.3987 - mean_squared_error: 0.3987\n",
      "Epoch 37/50\n",
      "1000/1000 [==============================] - 0s 60us/sample - loss: 0.3959 - mean_squared_error: 0.3959\n",
      "Epoch 38/50\n",
      "1000/1000 [==============================] - 0s 70us/sample - loss: 0.3933 - mean_squared_error: 0.3933\n",
      "Epoch 39/50\n",
      "1000/1000 [==============================] - 0s 72us/sample - loss: 0.3911 - mean_squared_error: 0.3911\n",
      "Epoch 40/50\n",
      "1000/1000 [==============================] - 0s 66us/sample - loss: 0.3886 - mean_squared_error: 0.3886\n",
      "Epoch 41/50\n",
      "1000/1000 [==============================] - 0s 75us/sample - loss: 0.3860 - mean_squared_error: 0.3860\n",
      "Epoch 42/50\n",
      "1000/1000 [==============================] - 0s 79us/sample - loss: 0.3837 - mean_squared_error: 0.3837\n",
      "Epoch 43/50\n",
      "1000/1000 [==============================] - 0s 64us/sample - loss: 0.3816 - mean_squared_error: 0.3816\n",
      "Epoch 44/50\n",
      "1000/1000 [==============================] - 0s 66us/sample - loss: 0.3793 - mean_squared_error: 0.3793\n",
      "Epoch 45/50\n",
      "1000/1000 [==============================] - 0s 68us/sample - loss: 0.3772 - mean_squared_error: 0.3772\n",
      "Epoch 46/50\n",
      "1000/1000 [==============================] - 0s 82us/sample - loss: 0.3751 - mean_squared_error: 0.3751\n",
      "Epoch 47/50\n",
      "1000/1000 [==============================] - 0s 75us/sample - loss: 0.3733 - mean_squared_error: 0.3733\n",
      "Epoch 48/50\n",
      "1000/1000 [==============================] - 0s 80us/sample - loss: 0.3715 - mean_squared_error: 0.3715\n",
      "Epoch 49/50\n",
      "1000/1000 [==============================] - 0s 72us/sample - loss: 0.3693 - mean_squared_error: 0.3693\n",
      "Epoch 50/50\n",
      "1000/1000 [==============================] - 0s 66us/sample - loss: 0.3675 - mean_squared_error: 0.3675\n",
      "Best: -0.549624 using {'epochs': 50, 'hidden': False, 'optimizer': 'adam', 'units': 8}\n"
     ]
    }
   ],
   "source": [
    "from sklearn.model_selection import GridSearchCV\n",
    "from tensorflow.contrib.keras.api.keras.wrappers.scikit_learn import KerasRegressor\n",
    "\n",
    "#this function is needed for the KerasRegressor\n",
    "def build_model(units, hidden, optimizer=\"sgd\"):\n",
    "    model = Sequential()\n",
    "    model.add(Dense(units = units, activation = \"tanh\", input_shape = (1,)))\n",
    "    if(hidden==True):\n",
    "        model.add(Dense(units = units, activation = \"tanh\", input_shape = (1,)))\n",
    "    model.add(Dense(units = 1, activation = 'linear'))                   \n",
    "    model.compile(optimizer = optimizer, loss = 'mse', metrics = ['mse'])\n",
    "    return model\n",
    "\n",
    "#create the model for the grid search\n",
    "model = KerasRegressor(build_fn=build_model, batch_size=32)\n",
    "\n",
    "#parameters to explore\n",
    "#'epochs': [50, 100],\n",
    "\n",
    "# define the grid search parameters\n",
    "param_grid={\"units\":[4,5,6,8],\n",
    "            \"epochs\":[50],\n",
    "            #\"epochs\": [50, 70, 100],\n",
    "            #\"hidden\":[False, True],\n",
    "            \"hidden\":[False],\n",
    "            \"optimizer\":[\"sgd\",\"adam\"]}\n",
    "grid = GridSearchCV(estimator=model, param_grid=param_grid, n_jobs=-1, \n",
    "                    scoring = 'neg_mean_absolute_error',\n",
    "                           cv = 3, verbose=2)\n",
    "grid_result = grid.fit(x_train_scal, y_train)\n",
    "# summarize results\n",
    "print(\"Best: %f using %s\" % (grid_result.best_score_, grid_result.best_params_))\n",
    "                   "
   ]
  },
  {
   "cell_type": "markdown",
   "metadata": {},
   "source": [
    "Apparently the grid search shows that only one layer is needed, and the best performing number of neurons is usually 6 or 5, but actually this is not really influencing the results. \n",
    "The best performing activation is $tanh$. Changing the optimizer is not heavily influencing the result, but Adam is the usually the best performing."
   ]
  },
  {
   "cell_type": "markdown",
   "metadata": {},
   "source": [
    "## Plotting some results\n",
    "To better explore the hyperparameters space I will plot some learning history."
   ]
  },
  {
   "cell_type": "code",
   "execution_count": 11,
   "metadata": {},
   "outputs": [],
   "source": [
    "def build_model(units, hidden, optimizer=\"sgd\", activation=\"tanh\") :\n",
    "    model = Sequential()\n",
    "    model.add(Dense(units = units, activation = \"tanh\", input_shape = (1,)))\n",
    "    if(hidden==True):\n",
    "        model.add(Dense(units = units, activation = \"tanh\", input_shape = (1,)))\n",
    "    model.add(Dense(units = 1, activation = 'linear'))                   \n",
    "    model.compile(optimizer = optimizer, loss = 'mse', metrics = ['mse'])\n",
    "    return model\n",
    "\n",
    "def fit_model(model):\n",
    "    history = model.fit(x=x_train_scal, y=y_train, \n",
    "          batch_size=32, epochs=30,\n",
    "          shuffle=True, # a good idea is to shuffle input before at each epoch\n",
    "          validation_data=(x_valid_scal, y_valid))\n",
    "    return history"
   ]
  },
  {
   "cell_type": "code",
   "execution_count": 12,
   "metadata": {},
   "outputs": [
    {
     "name": "stdout",
     "output_type": "stream",
     "text": [
      "Train on 1000 samples, validate on 100 samples\n",
      "Epoch 1/30\n",
      "1000/1000 [==============================] - 0s 181us/sample - loss: 6.2520 - mean_squared_error: 6.2520 - val_loss: 1.4970 - val_mean_squared_error: 1.4970\n",
      "Epoch 2/30\n",
      "1000/1000 [==============================] - 0s 48us/sample - loss: 0.6436 - mean_squared_error: 0.6436 - val_loss: 0.5800 - val_mean_squared_error: 0.5800\n",
      "Epoch 3/30\n",
      "1000/1000 [==============================] - 0s 57us/sample - loss: 0.4202 - mean_squared_error: 0.4202 - val_loss: 0.5049 - val_mean_squared_error: 0.5049\n",
      "Epoch 4/30\n",
      "1000/1000 [==============================] - 0s 78us/sample - loss: 0.3974 - mean_squared_error: 0.3974 - val_loss: 0.4854 - val_mean_squared_error: 0.4854\n",
      "Epoch 5/30\n",
      "1000/1000 [==============================] - 0s 81us/sample - loss: 0.3846 - mean_squared_error: 0.3846 - val_loss: 0.4733 - val_mean_squared_error: 0.4733\n",
      "Epoch 6/30\n",
      "1000/1000 [==============================] - 0s 90us/sample - loss: 0.3744 - mean_squared_error: 0.3744 - val_loss: 0.4570 - val_mean_squared_error: 0.4570\n",
      "Epoch 7/30\n",
      "1000/1000 [==============================] - 0s 63us/sample - loss: 0.3654 - mean_squared_error: 0.3654 - val_loss: 0.4500 - val_mean_squared_error: 0.4500\n",
      "Epoch 8/30\n",
      "1000/1000 [==============================] - 0s 78us/sample - loss: 0.3562 - mean_squared_error: 0.3562 - val_loss: 0.4452 - val_mean_squared_error: 0.4452\n",
      "Epoch 9/30\n",
      "1000/1000 [==============================] - 0s 77us/sample - loss: 0.3542 - mean_squared_error: 0.3542 - val_loss: 0.4360 - val_mean_squared_error: 0.4360\n",
      "Epoch 10/30\n",
      "1000/1000 [==============================] - 0s 80us/sample - loss: 0.3462 - mean_squared_error: 0.3462 - val_loss: 0.4272 - val_mean_squared_error: 0.4272\n",
      "Epoch 11/30\n",
      "1000/1000 [==============================] - 0s 82us/sample - loss: 0.3390 - mean_squared_error: 0.3390 - val_loss: 0.4170 - val_mean_squared_error: 0.4170\n",
      "Epoch 12/30\n",
      "1000/1000 [==============================] - 0s 94us/sample - loss: 0.3351 - mean_squared_error: 0.3351 - val_loss: 0.4142 - val_mean_squared_error: 0.4142\n",
      "Epoch 13/30\n",
      "1000/1000 [==============================] - 0s 86us/sample - loss: 0.3304 - mean_squared_error: 0.3304 - val_loss: 0.4098 - val_mean_squared_error: 0.4098\n",
      "Epoch 14/30\n",
      "1000/1000 [==============================] - 0s 86us/sample - loss: 0.3241 - mean_squared_error: 0.3241 - val_loss: 0.4009 - val_mean_squared_error: 0.4009\n",
      "Epoch 15/30\n",
      "1000/1000 [==============================] - 0s 87us/sample - loss: 0.3188 - mean_squared_error: 0.3188 - val_loss: 0.3997 - val_mean_squared_error: 0.3997\n",
      "Epoch 16/30\n",
      "1000/1000 [==============================] - 0s 97us/sample - loss: 0.3147 - mean_squared_error: 0.3147 - val_loss: 0.3999 - val_mean_squared_error: 0.3999\n",
      "Epoch 17/30\n",
      "1000/1000 [==============================] - 0s 83us/sample - loss: 0.3104 - mean_squared_error: 0.3104 - val_loss: 0.3879 - val_mean_squared_error: 0.3879\n",
      "Epoch 18/30\n",
      "1000/1000 [==============================] - 0s 84us/sample - loss: 0.3063 - mean_squared_error: 0.3063 - val_loss: 0.3826 - val_mean_squared_error: 0.3826\n",
      "Epoch 19/30\n",
      "1000/1000 [==============================] - 0s 61us/sample - loss: 0.3012 - mean_squared_error: 0.3012 - val_loss: 0.3726 - val_mean_squared_error: 0.3726\n",
      "Epoch 20/30\n",
      "1000/1000 [==============================] - 0s 74us/sample - loss: 0.2958 - mean_squared_error: 0.2958 - val_loss: 0.3682 - val_mean_squared_error: 0.3682\n",
      "Epoch 21/30\n",
      "1000/1000 [==============================] - 0s 79us/sample - loss: 0.2917 - mean_squared_error: 0.2917 - val_loss: 0.3624 - val_mean_squared_error: 0.3624\n",
      "Epoch 22/30\n",
      "1000/1000 [==============================] - 0s 88us/sample - loss: 0.2865 - mean_squared_error: 0.2865 - val_loss: 0.3547 - val_mean_squared_error: 0.3547\n",
      "Epoch 23/30\n",
      "1000/1000 [==============================] - 0s 84us/sample - loss: 0.2808 - mean_squared_error: 0.2808 - val_loss: 0.3591 - val_mean_squared_error: 0.3591\n",
      "Epoch 24/30\n",
      "1000/1000 [==============================] - 0s 87us/sample - loss: 0.2770 - mean_squared_error: 0.2770 - val_loss: 0.3447 - val_mean_squared_error: 0.3447\n",
      "Epoch 25/30\n",
      "1000/1000 [==============================] - 0s 74us/sample - loss: 0.2725 - mean_squared_error: 0.2725 - val_loss: 0.3452 - val_mean_squared_error: 0.3452\n",
      "Epoch 26/30\n",
      "1000/1000 [==============================] - 0s 90us/sample - loss: 0.2682 - mean_squared_error: 0.2682 - val_loss: 0.3345 - val_mean_squared_error: 0.3345\n",
      "Epoch 27/30\n",
      "1000/1000 [==============================] - 0s 78us/sample - loss: 0.2634 - mean_squared_error: 0.2634 - val_loss: 0.3320 - val_mean_squared_error: 0.3320\n",
      "Epoch 28/30\n",
      "1000/1000 [==============================] - 0s 85us/sample - loss: 0.2587 - mean_squared_error: 0.2587 - val_loss: 0.3225 - val_mean_squared_error: 0.3225\n",
      "Epoch 29/30\n",
      "1000/1000 [==============================] - 0s 71us/sample - loss: 0.2541 - mean_squared_error: 0.2541 - val_loss: 0.3158 - val_mean_squared_error: 0.3158\n",
      "Epoch 30/30\n",
      "1000/1000 [==============================] - 0s 89us/sample - loss: 0.2496 - mean_squared_error: 0.2496 - val_loss: 0.3178 - val_mean_squared_error: 0.3178\n",
      "Train on 1000 samples, validate on 100 samples\n",
      "Epoch 1/30\n",
      "1000/1000 [==============================] - 0s 203us/sample - loss: 6.2048 - mean_squared_error: 6.2048 - val_loss: 1.5189 - val_mean_squared_error: 1.5189\n",
      "Epoch 2/30\n",
      "1000/1000 [==============================] - 0s 82us/sample - loss: 0.6458 - mean_squared_error: 0.6458 - val_loss: 0.5769 - val_mean_squared_error: 0.5769\n",
      "Epoch 3/30\n",
      "1000/1000 [==============================] - 0s 77us/sample - loss: 0.4253 - mean_squared_error: 0.4253 - val_loss: 0.5093 - val_mean_squared_error: 0.5093\n",
      "Epoch 4/30\n",
      "1000/1000 [==============================] - 0s 80us/sample - loss: 0.4051 - mean_squared_error: 0.4051 - val_loss: 0.4874 - val_mean_squared_error: 0.4874\n",
      "Epoch 5/30\n",
      "1000/1000 [==============================] - 0s 76us/sample - loss: 0.3932 - mean_squared_error: 0.3932 - val_loss: 0.4745 - val_mean_squared_error: 0.4745\n",
      "Epoch 6/30\n",
      "1000/1000 [==============================] - 0s 64us/sample - loss: 0.3822 - mean_squared_error: 0.3822 - val_loss: 0.4685 - val_mean_squared_error: 0.4685\n",
      "Epoch 7/30\n",
      "1000/1000 [==============================] - 0s 61us/sample - loss: 0.3722 - mean_squared_error: 0.3722 - val_loss: 0.4564 - val_mean_squared_error: 0.4564\n",
      "Epoch 8/30\n",
      "1000/1000 [==============================] - 0s 58us/sample - loss: 0.3626 - mean_squared_error: 0.3626 - val_loss: 0.4495 - val_mean_squared_error: 0.4495\n",
      "Epoch 9/30\n",
      "1000/1000 [==============================] - 0s 64us/sample - loss: 0.3536 - mean_squared_error: 0.3536 - val_loss: 0.4384 - val_mean_squared_error: 0.4384\n",
      "Epoch 10/30\n",
      "1000/1000 [==============================] - 0s 68us/sample - loss: 0.3456 - mean_squared_error: 0.3456 - val_loss: 0.4251 - val_mean_squared_error: 0.4251\n",
      "Epoch 11/30\n",
      "1000/1000 [==============================] - 0s 60us/sample - loss: 0.3358 - mean_squared_error: 0.3358 - val_loss: 0.4222 - val_mean_squared_error: 0.4222\n",
      "Epoch 12/30\n",
      "1000/1000 [==============================] - 0s 59us/sample - loss: 0.3292 - mean_squared_error: 0.3292 - val_loss: 0.4156 - val_mean_squared_error: 0.4156\n",
      "Epoch 13/30\n",
      "1000/1000 [==============================] - 0s 56us/sample - loss: 0.3211 - mean_squared_error: 0.3211 - val_loss: 0.4005 - val_mean_squared_error: 0.4005\n",
      "Epoch 14/30\n",
      "1000/1000 [==============================] - 0s 52us/sample - loss: 0.3126 - mean_squared_error: 0.3126 - val_loss: 0.3898 - val_mean_squared_error: 0.3898\n",
      "Epoch 15/30\n",
      "1000/1000 [==============================] - 0s 60us/sample - loss: 0.3046 - mean_squared_error: 0.3046 - val_loss: 0.3774 - val_mean_squared_error: 0.3774\n",
      "Epoch 16/30\n",
      "1000/1000 [==============================] - 0s 64us/sample - loss: 0.2969 - mean_squared_error: 0.2969 - val_loss: 0.3805 - val_mean_squared_error: 0.3805\n",
      "Epoch 17/30\n",
      "1000/1000 [==============================] - 0s 59us/sample - loss: 0.2895 - mean_squared_error: 0.2895 - val_loss: 0.3642 - val_mean_squared_error: 0.3642\n",
      "Epoch 18/30\n",
      "1000/1000 [==============================] - 0s 54us/sample - loss: 0.2802 - mean_squared_error: 0.2802 - val_loss: 0.3542 - val_mean_squared_error: 0.3542\n",
      "Epoch 19/30\n"
     ]
    },
    {
     "name": "stdout",
     "output_type": "stream",
     "text": [
      "1000/1000 [==============================] - 0s 55us/sample - loss: 0.2741 - mean_squared_error: 0.2741 - val_loss: 0.3411 - val_mean_squared_error: 0.3411\n",
      "Epoch 20/30\n",
      "1000/1000 [==============================] - 0s 58us/sample - loss: 0.2670 - mean_squared_error: 0.2670 - val_loss: 0.3376 - val_mean_squared_error: 0.3376\n",
      "Epoch 21/30\n",
      "1000/1000 [==============================] - 0s 53us/sample - loss: 0.2589 - mean_squared_error: 0.2589 - val_loss: 0.3284 - val_mean_squared_error: 0.3284\n",
      "Epoch 22/30\n",
      "1000/1000 [==============================] - 0s 57us/sample - loss: 0.2529 - mean_squared_error: 0.2529 - val_loss: 0.3243 - val_mean_squared_error: 0.3243\n",
      "Epoch 23/30\n",
      "1000/1000 [==============================] - 0s 62us/sample - loss: 0.2455 - mean_squared_error: 0.2455 - val_loss: 0.3130 - val_mean_squared_error: 0.3130\n",
      "Epoch 24/30\n",
      "1000/1000 [==============================] - 0s 63us/sample - loss: 0.2385 - mean_squared_error: 0.2385 - val_loss: 0.3037 - val_mean_squared_error: 0.3037\n",
      "Epoch 25/30\n",
      "1000/1000 [==============================] - 0s 70us/sample - loss: 0.2317 - mean_squared_error: 0.2317 - val_loss: 0.2985 - val_mean_squared_error: 0.2985\n",
      "Epoch 26/30\n",
      "1000/1000 [==============================] - 0s 68us/sample - loss: 0.2255 - mean_squared_error: 0.2255 - val_loss: 0.2910 - val_mean_squared_error: 0.2910\n",
      "Epoch 27/30\n",
      "1000/1000 [==============================] - 0s 73us/sample - loss: 0.2190 - mean_squared_error: 0.2190 - val_loss: 0.2803 - val_mean_squared_error: 0.2803\n",
      "Epoch 28/30\n",
      "1000/1000 [==============================] - 0s 67us/sample - loss: 0.2137 - mean_squared_error: 0.2137 - val_loss: 0.2742 - val_mean_squared_error: 0.2742\n",
      "Epoch 29/30\n",
      "1000/1000 [==============================] - 0s 72us/sample - loss: 0.2072 - mean_squared_error: 0.2072 - val_loss: 0.2648 - val_mean_squared_error: 0.2648\n",
      "Epoch 30/30\n",
      "1000/1000 [==============================] - 0s 59us/sample - loss: 0.2011 - mean_squared_error: 0.2011 - val_loss: 0.2588 - val_mean_squared_error: 0.2588\n",
      "Train on 1000 samples, validate on 100 samples\n",
      "Epoch 1/30\n",
      "1000/1000 [==============================] - 0s 169us/sample - loss: 5.2515 - mean_squared_error: 5.2515 - val_loss: 1.3655 - val_mean_squared_error: 1.3655\n",
      "Epoch 2/30\n",
      "1000/1000 [==============================] - 0s 47us/sample - loss: 0.7067 - mean_squared_error: 0.7067 - val_loss: 0.8306 - val_mean_squared_error: 0.8306\n",
      "Epoch 3/30\n",
      "1000/1000 [==============================] - 0s 49us/sample - loss: 0.5821 - mean_squared_error: 0.5821 - val_loss: 0.7545 - val_mean_squared_error: 0.7545\n",
      "Epoch 4/30\n",
      "1000/1000 [==============================] - 0s 51us/sample - loss: 0.5311 - mean_squared_error: 0.5311 - val_loss: 0.6913 - val_mean_squared_error: 0.6913\n",
      "Epoch 5/30\n",
      "1000/1000 [==============================] - 0s 54us/sample - loss: 0.4886 - mean_squared_error: 0.4886 - val_loss: 0.6377 - val_mean_squared_error: 0.6377\n",
      "Epoch 6/30\n",
      "1000/1000 [==============================] - 0s 57us/sample - loss: 0.4488 - mean_squared_error: 0.4488 - val_loss: 0.5819 - val_mean_squared_error: 0.5819\n",
      "Epoch 7/30\n",
      "1000/1000 [==============================] - 0s 67us/sample - loss: 0.4132 - mean_squared_error: 0.4132 - val_loss: 0.5417 - val_mean_squared_error: 0.5417\n",
      "Epoch 8/30\n",
      "1000/1000 [==============================] - 0s 65us/sample - loss: 0.3840 - mean_squared_error: 0.3840 - val_loss: 0.5029 - val_mean_squared_error: 0.5029\n",
      "Epoch 9/30\n",
      "1000/1000 [==============================] - 0s 63us/sample - loss: 0.3579 - mean_squared_error: 0.3579 - val_loss: 0.4819 - val_mean_squared_error: 0.4819\n",
      "Epoch 10/30\n",
      "1000/1000 [==============================] - 0s 54us/sample - loss: 0.3345 - mean_squared_error: 0.3345 - val_loss: 0.4375 - val_mean_squared_error: 0.4375\n",
      "Epoch 11/30\n",
      "1000/1000 [==============================] - 0s 56us/sample - loss: 0.3114 - mean_squared_error: 0.3114 - val_loss: 0.4127 - val_mean_squared_error: 0.4127\n",
      "Epoch 12/30\n",
      "1000/1000 [==============================] - 0s 56us/sample - loss: 0.2886 - mean_squared_error: 0.2886 - val_loss: 0.3754 - val_mean_squared_error: 0.3754\n",
      "Epoch 13/30\n",
      "1000/1000 [==============================] - 0s 53us/sample - loss: 0.2674 - mean_squared_error: 0.2674 - val_loss: 0.3545 - val_mean_squared_error: 0.3545\n",
      "Epoch 14/30\n",
      "1000/1000 [==============================] - 0s 61us/sample - loss: 0.2482 - mean_squared_error: 0.2482 - val_loss: 0.3460 - val_mean_squared_error: 0.3460\n",
      "Epoch 15/30\n",
      "1000/1000 [==============================] - 0s 53us/sample - loss: 0.2293 - mean_squared_error: 0.2293 - val_loss: 0.3007 - val_mean_squared_error: 0.3007\n",
      "Epoch 16/30\n",
      "1000/1000 [==============================] - 0s 54us/sample - loss: 0.2107 - mean_squared_error: 0.2107 - val_loss: 0.2879 - val_mean_squared_error: 0.2879\n",
      "Epoch 17/30\n",
      "1000/1000 [==============================] - 0s 54us/sample - loss: 0.1944 - mean_squared_error: 0.1944 - val_loss: 0.2663 - val_mean_squared_error: 0.2663\n",
      "Epoch 18/30\n",
      "1000/1000 [==============================] - 0s 88us/sample - loss: 0.1774 - mean_squared_error: 0.1774 - val_loss: 0.2432 - val_mean_squared_error: 0.2432\n",
      "Epoch 19/30\n",
      "1000/1000 [==============================] - 0s 99us/sample - loss: 0.1622 - mean_squared_error: 0.1622 - val_loss: 0.2206 - val_mean_squared_error: 0.2206\n",
      "Epoch 20/30\n",
      "1000/1000 [==============================] - 0s 102us/sample - loss: 0.1480 - mean_squared_error: 0.1480 - val_loss: 0.2016 - val_mean_squared_error: 0.2016\n",
      "Epoch 21/30\n",
      "1000/1000 [==============================] - 0s 94us/sample - loss: 0.1346 - mean_squared_error: 0.1346 - val_loss: 0.1794 - val_mean_squared_error: 0.1794\n",
      "Epoch 22/30\n",
      "1000/1000 [==============================] - 0s 67us/sample - loss: 0.1201 - mean_squared_error: 0.1201 - val_loss: 0.1642 - val_mean_squared_error: 0.1642\n",
      "Epoch 23/30\n",
      "1000/1000 [==============================] - 0s 72us/sample - loss: 0.1123 - mean_squared_error: 0.1123 - val_loss: 0.1689 - val_mean_squared_error: 0.1689\n",
      "Epoch 24/30\n",
      "1000/1000 [==============================] - 0s 68us/sample - loss: 0.1028 - mean_squared_error: 0.1028 - val_loss: 0.1499 - val_mean_squared_error: 0.1499\n",
      "Epoch 25/30\n",
      "1000/1000 [==============================] - 0s 67us/sample - loss: 0.0957 - mean_squared_error: 0.0957 - val_loss: 0.1325 - val_mean_squared_error: 0.1325\n",
      "Epoch 26/30\n",
      "1000/1000 [==============================] - 0s 73us/sample - loss: 0.0887 - mean_squared_error: 0.0887 - val_loss: 0.1225 - val_mean_squared_error: 0.1225\n",
      "Epoch 27/30\n",
      "1000/1000 [==============================] - 0s 66us/sample - loss: 0.0832 - mean_squared_error: 0.0832 - val_loss: 0.1184 - val_mean_squared_error: 0.1184\n",
      "Epoch 28/30\n",
      "1000/1000 [==============================] - 0s 75us/sample - loss: 0.0791 - mean_squared_error: 0.0791 - val_loss: 0.1077 - val_mean_squared_error: 0.1077\n",
      "Epoch 29/30\n",
      "1000/1000 [==============================] - 0s 70us/sample - loss: 0.0758 - mean_squared_error: 0.0758 - val_loss: 0.1047 - val_mean_squared_error: 0.1047\n",
      "Epoch 30/30\n",
      "1000/1000 [==============================] - 0s 66us/sample - loss: 0.0722 - mean_squared_error: 0.0722 - val_loss: 0.0968 - val_mean_squared_error: 0.0968\n",
      "Train on 1000 samples, validate on 100 samples\n",
      "Epoch 1/30\n",
      "1000/1000 [==============================] - 0s 195us/sample - loss: 20.0496 - mean_squared_error: 20.0496 - val_loss: 21.5026 - val_mean_squared_error: 21.5026\n",
      "Epoch 2/30\n",
      "1000/1000 [==============================] - 0s 50us/sample - loss: 18.8779 - mean_squared_error: 18.8779 - val_loss: 20.2069 - val_mean_squared_error: 20.2069\n",
      "Epoch 3/30\n",
      "1000/1000 [==============================] - 0s 55us/sample - loss: 17.6969 - mean_squared_error: 17.6969 - val_loss: 18.8961 - val_mean_squared_error: 18.8961\n",
      "Epoch 4/30\n",
      "1000/1000 [==============================] - 0s 77us/sample - loss: 16.4883 - mean_squared_error: 16.4883 - val_loss: 17.5361 - val_mean_squared_error: 17.5361\n",
      "Epoch 5/30\n",
      "1000/1000 [==============================] - 0s 80us/sample - loss: 15.2477 - mean_squared_error: 15.2477 - val_loss: 16.1708 - val_mean_squared_error: 16.1708\n",
      "Epoch 6/30\n",
      "1000/1000 [==============================] - 0s 85us/sample - loss: 14.0085 - mean_squared_error: 14.0085 - val_loss: 14.8431 - val_mean_squared_error: 14.8431\n",
      "Epoch 7/30\n"
     ]
    },
    {
     "name": "stdout",
     "output_type": "stream",
     "text": [
      "1000/1000 [==============================] - 0s 75us/sample - loss: 12.7886 - mean_squared_error: 12.7886 - val_loss: 13.5313 - val_mean_squared_error: 13.5313\n",
      "Epoch 8/30\n",
      "1000/1000 [==============================] - 0s 84us/sample - loss: 11.5960 - mean_squared_error: 11.5960 - val_loss: 12.2527 - val_mean_squared_error: 12.2527\n",
      "Epoch 9/30\n",
      "1000/1000 [==============================] - 0s 68us/sample - loss: 10.4508 - mean_squared_error: 10.4508 - val_loss: 11.0548 - val_mean_squared_error: 11.0548\n",
      "Epoch 10/30\n",
      "1000/1000 [==============================] - 0s 72us/sample - loss: 9.3706 - mean_squared_error: 9.3706 - val_loss: 9.9341 - val_mean_squared_error: 9.9341\n",
      "Epoch 11/30\n",
      "1000/1000 [==============================] - 0s 65us/sample - loss: 8.3599 - mean_squared_error: 8.3599 - val_loss: 8.8636 - val_mean_squared_error: 8.8636\n",
      "Epoch 12/30\n",
      "1000/1000 [==============================] - 0s 58us/sample - loss: 7.4098 - mean_squared_error: 7.4098 - val_loss: 7.8867 - val_mean_squared_error: 7.8867\n",
      "Epoch 13/30\n",
      "1000/1000 [==============================] - 0s 58us/sample - loss: 6.5353 - mean_squared_error: 6.5353 - val_loss: 6.9829 - val_mean_squared_error: 6.9829\n",
      "Epoch 14/30\n",
      "1000/1000 [==============================] - 0s 57us/sample - loss: 5.7361 - mean_squared_error: 5.7361 - val_loss: 6.1585 - val_mean_squared_error: 6.1585\n",
      "Epoch 15/30\n",
      "1000/1000 [==============================] - 0s 53us/sample - loss: 5.0103 - mean_squared_error: 5.0103 - val_loss: 5.4081 - val_mean_squared_error: 5.4081\n",
      "Epoch 16/30\n",
      "1000/1000 [==============================] - 0s 57us/sample - loss: 4.3560 - mean_squared_error: 4.3560 - val_loss: 4.7300 - val_mean_squared_error: 4.7300\n",
      "Epoch 17/30\n",
      "1000/1000 [==============================] - 0s 55us/sample - loss: 3.7703 - mean_squared_error: 3.7703 - val_loss: 4.1372 - val_mean_squared_error: 4.1372\n",
      "Epoch 18/30\n",
      "1000/1000 [==============================] - 0s 57us/sample - loss: 3.2525 - mean_squared_error: 3.2525 - val_loss: 3.6055 - val_mean_squared_error: 3.6055\n",
      "Epoch 19/30\n",
      "1000/1000 [==============================] - 0s 56us/sample - loss: 2.7997 - mean_squared_error: 2.7997 - val_loss: 3.1265 - val_mean_squared_error: 3.1265\n",
      "Epoch 20/30\n",
      "1000/1000 [==============================] - 0s 56us/sample - loss: 2.4006 - mean_squared_error: 2.4006 - val_loss: 2.7156 - val_mean_squared_error: 2.7156\n",
      "Epoch 21/30\n",
      "1000/1000 [==============================] - 0s 68us/sample - loss: 2.0544 - mean_squared_error: 2.0544 - val_loss: 2.3595 - val_mean_squared_error: 2.3595\n",
      "Epoch 22/30\n",
      "1000/1000 [==============================] - 0s 66us/sample - loss: 1.7602 - mean_squared_error: 1.7602 - val_loss: 2.0460 - val_mean_squared_error: 2.0460\n",
      "Epoch 23/30\n",
      "1000/1000 [==============================] - 0s 66us/sample - loss: 1.5080 - mean_squared_error: 1.5080 - val_loss: 1.7837 - val_mean_squared_error: 1.7837\n",
      "Epoch 24/30\n",
      "1000/1000 [==============================] - 0s 68us/sample - loss: 1.2967 - mean_squared_error: 1.2967 - val_loss: 1.5584 - val_mean_squared_error: 1.5584\n",
      "Epoch 25/30\n",
      "1000/1000 [==============================] - 0s 61us/sample - loss: 1.1198 - mean_squared_error: 1.1198 - val_loss: 1.3689 - val_mean_squared_error: 1.3689\n",
      "Epoch 26/30\n",
      "1000/1000 [==============================] - 0s 54us/sample - loss: 0.9713 - mean_squared_error: 0.9713 - val_loss: 1.2063 - val_mean_squared_error: 1.2063\n",
      "Epoch 27/30\n",
      "1000/1000 [==============================] - 0s 57us/sample - loss: 0.8495 - mean_squared_error: 0.8495 - val_loss: 1.0726 - val_mean_squared_error: 1.0726\n",
      "Epoch 28/30\n",
      "1000/1000 [==============================] - 0s 57us/sample - loss: 0.7504 - mean_squared_error: 0.7504 - val_loss: 0.9602 - val_mean_squared_error: 0.9602\n",
      "Epoch 29/30\n",
      "1000/1000 [==============================] - 0s 75us/sample - loss: 0.6691 - mean_squared_error: 0.6691 - val_loss: 0.8700 - val_mean_squared_error: 0.8700\n",
      "Epoch 30/30\n",
      "1000/1000 [==============================] - 0s 82us/sample - loss: 0.6039 - mean_squared_error: 0.6039 - val_loss: 0.7915 - val_mean_squared_error: 0.7915\n",
      "Train on 1000 samples, validate on 100 samples\n",
      "Epoch 1/30\n",
      "1000/1000 [==============================] - 0s 226us/sample - loss: 22.2655 - mean_squared_error: 22.2655 - val_loss: 23.6854 - val_mean_squared_error: 23.6854\n",
      "Epoch 2/30\n",
      "1000/1000 [==============================] - 0s 51us/sample - loss: 20.6604 - mean_squared_error: 20.6604 - val_loss: 21.9583 - val_mean_squared_error: 21.9583\n",
      "Epoch 3/30\n",
      "1000/1000 [==============================] - 0s 49us/sample - loss: 19.0859 - mean_squared_error: 19.0859 - val_loss: 20.2819 - val_mean_squared_error: 20.2819\n",
      "Epoch 4/30\n",
      "1000/1000 [==============================] - 0s 50us/sample - loss: 17.5749 - mean_squared_error: 17.5749 - val_loss: 18.6773 - val_mean_squared_error: 18.6773\n",
      "Epoch 5/30\n",
      "1000/1000 [==============================] - 0s 50us/sample - loss: 16.1207 - mean_squared_error: 16.1207 - val_loss: 17.1345 - val_mean_squared_error: 17.1345\n",
      "Epoch 6/30\n",
      "1000/1000 [==============================] - 0s 52us/sample - loss: 14.7274 - mean_squared_error: 14.7274 - val_loss: 15.6626 - val_mean_squared_error: 15.6626\n",
      "Epoch 7/30\n",
      "1000/1000 [==============================] - 0s 50us/sample - loss: 13.4091 - mean_squared_error: 13.4091 - val_loss: 14.2778 - val_mean_squared_error: 14.2778\n",
      "Epoch 8/30\n",
      "1000/1000 [==============================] - 0s 58us/sample - loss: 12.1720 - mean_squared_error: 12.1720 - val_loss: 12.9856 - val_mean_squared_error: 12.9856\n",
      "Epoch 9/30\n",
      "1000/1000 [==============================] - 0s 54us/sample - loss: 11.0180 - mean_squared_error: 11.0180 - val_loss: 11.7708 - val_mean_squared_error: 11.7708\n",
      "Epoch 10/30\n",
      "1000/1000 [==============================] - 0s 58us/sample - loss: 9.9285 - mean_squared_error: 9.9285 - val_loss: 10.6557 - val_mean_squared_error: 10.6557\n",
      "Epoch 11/30\n",
      "1000/1000 [==============================] - 0s 52us/sample - loss: 8.9168 - mean_squared_error: 8.9168 - val_loss: 9.6062 - val_mean_squared_error: 9.6062\n",
      "Epoch 12/30\n",
      "1000/1000 [==============================] - 0s 64us/sample - loss: 7.9747 - mean_squared_error: 7.9747 - val_loss: 8.6203 - val_mean_squared_error: 8.6203\n",
      "Epoch 13/30\n",
      "1000/1000 [==============================] - 0s 59us/sample - loss: 7.1053 - mean_squared_error: 7.1053 - val_loss: 7.7075 - val_mean_squared_error: 7.7075\n",
      "Epoch 14/30\n",
      "1000/1000 [==============================] - 0s 60us/sample - loss: 6.3002 - mean_squared_error: 6.3002 - val_loss: 6.8699 - val_mean_squared_error: 6.8699\n",
      "Epoch 15/30\n",
      "1000/1000 [==============================] - 0s 55us/sample - loss: 5.5568 - mean_squared_error: 5.5568 - val_loss: 6.1019 - val_mean_squared_error: 6.1019\n",
      "Epoch 16/30\n",
      "1000/1000 [==============================] - 0s 58us/sample - loss: 4.8911 - mean_squared_error: 4.8911 - val_loss: 5.3951 - val_mean_squared_error: 5.3951\n",
      "Epoch 17/30\n",
      "1000/1000 [==============================] - 0s 59us/sample - loss: 4.2851 - mean_squared_error: 4.2851 - val_loss: 4.7619 - val_mean_squared_error: 4.7619\n",
      "Epoch 18/30\n",
      "1000/1000 [==============================] - 0s 55us/sample - loss: 3.7419 - mean_squared_error: 3.7419 - val_loss: 4.1980 - val_mean_squared_error: 4.1980\n",
      "Epoch 19/30\n",
      "1000/1000 [==============================] - 0s 60us/sample - loss: 3.2603 - mean_squared_error: 3.2603 - val_loss: 3.6814 - val_mean_squared_error: 3.6814\n",
      "Epoch 20/30\n",
      "1000/1000 [==============================] - 0s 55us/sample - loss: 2.8336 - mean_squared_error: 2.8336 - val_loss: 3.2407 - val_mean_squared_error: 3.2407\n",
      "Epoch 21/30\n",
      "1000/1000 [==============================] - 0s 55us/sample - loss: 2.4647 - mean_squared_error: 2.4647 - val_loss: 2.8543 - val_mean_squared_error: 2.8543\n",
      "Epoch 22/30\n",
      "1000/1000 [==============================] - 0s 76us/sample - loss: 2.1453 - mean_squared_error: 2.1453 - val_loss: 2.5109 - val_mean_squared_error: 2.5109\n",
      "Epoch 23/30\n",
      "1000/1000 [==============================] - 0s 79us/sample - loss: 1.8630 - mean_squared_error: 1.8630 - val_loss: 2.2102 - val_mean_squared_error: 2.2102\n",
      "Epoch 24/30\n",
      "1000/1000 [==============================] - 0s 79us/sample - loss: 1.6209 - mean_squared_error: 1.6209 - val_loss: 1.9538 - val_mean_squared_error: 1.9538\n",
      "Epoch 25/30\n"
     ]
    },
    {
     "name": "stdout",
     "output_type": "stream",
     "text": [
      "1000/1000 [==============================] - 0s 83us/sample - loss: 1.4128 - mean_squared_error: 1.4128 - val_loss: 1.7249 - val_mean_squared_error: 1.7249\n",
      "Epoch 26/30\n",
      "1000/1000 [==============================] - 0s 71us/sample - loss: 1.2348 - mean_squared_error: 1.2348 - val_loss: 1.5286 - val_mean_squared_error: 1.5286\n",
      "Epoch 27/30\n",
      "1000/1000 [==============================] - 0s 86us/sample - loss: 1.0855 - mean_squared_error: 1.0855 - val_loss: 1.3636 - val_mean_squared_error: 1.3636\n",
      "Epoch 28/30\n",
      "1000/1000 [==============================] - 0s 84us/sample - loss: 0.9602 - mean_squared_error: 0.9602 - val_loss: 1.2213 - val_mean_squared_error: 1.2213\n",
      "Epoch 29/30\n",
      "1000/1000 [==============================] - 0s 92us/sample - loss: 0.8558 - mean_squared_error: 0.8558 - val_loss: 1.1027 - val_mean_squared_error: 1.1027\n",
      "Epoch 30/30\n",
      "1000/1000 [==============================] - 0s 91us/sample - loss: 0.7698 - mean_squared_error: 0.7698 - val_loss: 1.0036 - val_mean_squared_error: 1.0036\n",
      "Train on 1000 samples, validate on 100 samples\n",
      "Epoch 1/30\n",
      "1000/1000 [==============================] - 0s 236us/sample - loss: 20.2429 - mean_squared_error: 20.2429 - val_loss: 21.0704 - val_mean_squared_error: 21.0704\n",
      "Epoch 2/30\n",
      "1000/1000 [==============================] - 0s 53us/sample - loss: 18.2695 - mean_squared_error: 18.2695 - val_loss: 19.1337 - val_mean_squared_error: 19.1337\n",
      "Epoch 3/30\n",
      "1000/1000 [==============================] - 0s 54us/sample - loss: 16.5466 - mean_squared_error: 16.5466 - val_loss: 17.3541 - val_mean_squared_error: 17.3541\n",
      "Epoch 4/30\n",
      "1000/1000 [==============================] - 0s 80us/sample - loss: 14.9650 - mean_squared_error: 14.9650 - val_loss: 15.7639 - val_mean_squared_error: 15.7639\n",
      "Epoch 5/30\n",
      "1000/1000 [==============================] - 0s 76us/sample - loss: 13.5199 - mean_squared_error: 13.5199 - val_loss: 14.2628 - val_mean_squared_error: 14.2628\n",
      "Epoch 6/30\n",
      "1000/1000 [==============================] - 0s 72us/sample - loss: 12.1447 - mean_squared_error: 12.1447 - val_loss: 12.8547 - val_mean_squared_error: 12.8547\n",
      "Epoch 7/30\n",
      "1000/1000 [==============================] - 0s 82us/sample - loss: 10.8498 - mean_squared_error: 10.8498 - val_loss: 11.5437 - val_mean_squared_error: 11.5437\n",
      "Epoch 8/30\n",
      "1000/1000 [==============================] - 0s 76us/sample - loss: 9.6182 - mean_squared_error: 9.6182 - val_loss: 10.2434 - val_mean_squared_error: 10.2434\n",
      "Epoch 9/30\n",
      "1000/1000 [==============================] - 0s 71us/sample - loss: 8.4406 - mean_squared_error: 8.4406 - val_loss: 9.0417 - val_mean_squared_error: 9.0417\n",
      "Epoch 10/30\n",
      "1000/1000 [==============================] - 0s 67us/sample - loss: 7.3296 - mean_squared_error: 7.3296 - val_loss: 7.8805 - val_mean_squared_error: 7.8805\n",
      "Epoch 11/30\n",
      "1000/1000 [==============================] - 0s 66us/sample - loss: 6.2886 - mean_squared_error: 6.2886 - val_loss: 6.8230 - val_mean_squared_error: 6.8230\n",
      "Epoch 12/30\n",
      "1000/1000 [==============================] - 0s 60us/sample - loss: 5.3470 - mean_squared_error: 5.3470 - val_loss: 5.8574 - val_mean_squared_error: 5.8574\n",
      "Epoch 13/30\n",
      "1000/1000 [==============================] - 0s 58us/sample - loss: 4.5078 - mean_squared_error: 4.5078 - val_loss: 5.0043 - val_mean_squared_error: 5.0043\n",
      "Epoch 14/30\n",
      "1000/1000 [==============================] - 0s 60us/sample - loss: 3.7824 - mean_squared_error: 3.7824 - val_loss: 4.2747 - val_mean_squared_error: 4.2747\n",
      "Epoch 15/30\n",
      "1000/1000 [==============================] - 0s 77us/sample - loss: 3.1697 - mean_squared_error: 3.1697 - val_loss: 3.6666 - val_mean_squared_error: 3.6666\n",
      "Epoch 16/30\n",
      "1000/1000 [==============================] - 0s 59us/sample - loss: 2.6655 - mean_squared_error: 2.6655 - val_loss: 3.1593 - val_mean_squared_error: 3.1593\n",
      "Epoch 17/30\n",
      "1000/1000 [==============================] - 0s 71us/sample - loss: 2.2517 - mean_squared_error: 2.2517 - val_loss: 2.7419 - val_mean_squared_error: 2.7419\n",
      "Epoch 18/30\n",
      "1000/1000 [==============================] - 0s 70us/sample - loss: 1.9127 - mean_squared_error: 1.9127 - val_loss: 2.3979 - val_mean_squared_error: 2.3979\n",
      "Epoch 19/30\n",
      "1000/1000 [==============================] - 0s 72us/sample - loss: 1.6477 - mean_squared_error: 1.6477 - val_loss: 2.1192 - val_mean_squared_error: 2.1192\n",
      "Epoch 20/30\n",
      "1000/1000 [==============================] - 0s 68us/sample - loss: 1.4358 - mean_squared_error: 1.4358 - val_loss: 1.8993 - val_mean_squared_error: 1.8993\n",
      "Epoch 21/30\n",
      "1000/1000 [==============================] - 0s 69us/sample - loss: 1.2704 - mean_squared_error: 1.2704 - val_loss: 1.7180 - val_mean_squared_error: 1.7180\n",
      "Epoch 22/30\n",
      "1000/1000 [==============================] - 0s 74us/sample - loss: 1.1396 - mean_squared_error: 1.1396 - val_loss: 1.5741 - val_mean_squared_error: 1.5741\n",
      "Epoch 23/30\n",
      "1000/1000 [==============================] - 0s 70us/sample - loss: 1.0355 - mean_squared_error: 1.0355 - val_loss: 1.4590 - val_mean_squared_error: 1.4590\n",
      "Epoch 24/30\n",
      "1000/1000 [==============================] - 0s 71us/sample - loss: 0.9567 - mean_squared_error: 0.9567 - val_loss: 1.3663 - val_mean_squared_error: 1.3663\n",
      "Epoch 25/30\n",
      "1000/1000 [==============================] - 0s 73us/sample - loss: 0.8942 - mean_squared_error: 0.8942 - val_loss: 1.2894 - val_mean_squared_error: 1.2894\n",
      "Epoch 26/30\n",
      "1000/1000 [==============================] - 0s 70us/sample - loss: 0.8455 - mean_squared_error: 0.8455 - val_loss: 1.2288 - val_mean_squared_error: 1.2288\n",
      "Epoch 27/30\n",
      "1000/1000 [==============================] - 0s 67us/sample - loss: 0.8070 - mean_squared_error: 0.8070 - val_loss: 1.1790 - val_mean_squared_error: 1.1790\n",
      "Epoch 28/30\n",
      "1000/1000 [==============================] - 0s 77us/sample - loss: 0.7771 - mean_squared_error: 0.7771 - val_loss: 1.1343 - val_mean_squared_error: 1.1343\n",
      "Epoch 29/30\n",
      "1000/1000 [==============================] - 0s 77us/sample - loss: 0.7517 - mean_squared_error: 0.7517 - val_loss: 1.0986 - val_mean_squared_error: 1.0986\n",
      "Epoch 30/30\n",
      "1000/1000 [==============================] - 0s 80us/sample - loss: 0.7307 - mean_squared_error: 0.7307 - val_loss: 1.0691 - val_mean_squared_error: 1.0691\n"
     ]
    }
   ],
   "source": [
    "sdg_tanh =build_model(5, False, \"sgd\", \"tanh\")\n",
    "sdg_relu= build_model(5, False, \"sgd\", \"relu\")\n",
    "sdg_hidden = build_model(5, True, \"sgd\")\n",
    "adam_tanh = build_model(5,False, \"adam\", \"tanh\")\n",
    "adam_relu = build_model(5,False ,\"adam\", \"relu\")\n",
    "adam_hidden = build_model(5, True, \"adam\")\n",
    "\n",
    "sdg_tanh= fit_model(sdg_tanh)\n",
    "sdg_relu= fit_model(sdg_relu)\n",
    "sdg_hidden= fit_model(sdg_hidden)\n",
    "adam_tanh=fit_model(adam_tanh)\n",
    "adam_relu=fit_model(adam_relu)\n",
    "adam_hidden=fit_model(adam_hidden)"
   ]
  },
  {
   "cell_type": "code",
   "execution_count": 13,
   "metadata": {
    "scrolled": false
   },
   "outputs": [
    {
     "data": {
      "text/plain": [
       "<matplotlib.legend.Legend at 0x7ff01c795c18>"
      ]
     },
     "execution_count": 13,
     "metadata": {},
     "output_type": "execute_result"
    },
    {
     "data": {
      "image/png": "[encoded data removed]",
      "text/plain": [
       "<Figure size 1152x720 with 6 Axes>"
      ]
     },
     "metadata": {
      "needs_background": "light"
     },
     "output_type": "display_data"
    }
   ],
   "source": [
    "fig,ax = plt.subplots(2, 3, figsize=(16, 10))  \n",
    "\n",
    "ax[0][0].plot(sdg_tanh.history['loss'])\n",
    "ax[0][0].plot(sdg_tanh.history['val_loss'])\n",
    "ax[0][0].set_title('SDG+TANH')\n",
    "ax[0][0].set_ylabel('Loss')\n",
    "ax[0][0].set_xlabel('Epoch')\n",
    "ax[0][0].legend(['Train', 'Test'])\n",
    "\n",
    "\n",
    "\n",
    "ax[0][1].plot(sdg_relu.history['loss'])\n",
    "ax[0][1].plot(sdg_relu.history['val_loss'])\n",
    "ax[0][1].set_title('SDG+RELU')\n",
    "ax[0][1].set_ylabel('Loss')\n",
    "ax[0][1].set_xlabel('Epoch')\n",
    "ax[0][1].legend(['Train', 'Test'])\n",
    "\n",
    "\n",
    "ax[0][2].plot(sdg_hidden.history['loss'])\n",
    "ax[0][2].plot(sdg_hidden.history['val_loss'])\n",
    "ax[0][2].set_title('SDG+RELU+HIDDEN')\n",
    "ax[0][2].set_ylabel('Loss')\n",
    "ax[0][2].set_xlabel('Epoch')\n",
    "ax[0][2].legend(['Train', 'Test'])\n",
    "\n",
    "\n",
    "ax[1][0].plot(adam_tanh.history['loss'])\n",
    "ax[1][0].plot(adam_tanh.history['val_loss'])\n",
    "ax[1][0].set_title('ADAM+TANH')\n",
    "ax[1][0].set_ylabel('Loss')\n",
    "ax[1][0].set_xlabel('Epoch')\n",
    "ax[1][0].legend(['Train', 'Test'])\n",
    "\n",
    "\n",
    "ax[1][1].plot(adam_relu.history['loss'])\n",
    "ax[1][1].plot(adam_relu.history['val_loss'])\n",
    "ax[1][1].set_title('ADAM+RELU')\n",
    "ax[1][1].set_ylabel('Loss')\n",
    "ax[1][1].set_xlabel('Epoch')\n",
    "ax[1][1].legend(['Train', 'Test'])\n",
    "\n",
    "\n",
    "\n",
    "ax[1][2].plot(adam_hidden.history['loss'])\n",
    "ax[1][2].plot(adam_hidden.history['val_loss'])\n",
    "ax[1][2].set_title('ADAM+RELU+HIDDEN')\n",
    "ax[1][2].set_ylabel('Loss')\n",
    "ax[1][2].set_xlabel('Epoch')\n",
    "ax[1][2].legend(['Train', 'Test'])\n",
    "\n",
    "\n",
    "\n"
   ]
  },
  {
   "cell_type": "markdown",
   "metadata": {},
   "source": [
    "The behavior of Adam is much smoother than SGD, but this is expected since it's an adaptive optimizer that changes the larning rate avoiding very steep learnings that may lead in wrong parameters space. "
   ]
  },
  {
   "cell_type": "markdown",
   "metadata": {},
   "source": [
    "## Chosing one model and exploring features space\n",
    "I will build a new NN with 5 neurons, one hidden layer, $relu$ as activation and ADAM as optimizer."
   ]
  },
  {
   "cell_type": "code",
   "execution_count": 14,
   "metadata": {},
   "outputs": [
    {
     "name": "stdout",
     "output_type": "stream",
     "text": [
      "Train on 1000 samples, validate on 100 samples\n",
      "Epoch 1/50\n",
      "1000/1000 [==============================] - 0s 237us/sample - loss: 21.5190 - mean_squared_error: 21.5190 - val_loss: 23.0209 - val_mean_squared_error: 23.0209\n",
      "Epoch 2/50\n",
      "1000/1000 [==============================] - 0s 67us/sample - loss: 20.0336 - mean_squared_error: 20.0336 - val_loss: 21.4546 - val_mean_squared_error: 21.4546\n",
      "Epoch 3/50\n",
      "1000/1000 [==============================] - 0s 70us/sample - loss: 18.7360 - mean_squared_error: 18.7360 - val_loss: 20.0203 - val_mean_squared_error: 20.0203\n",
      "Epoch 4/50\n",
      "1000/1000 [==============================] - 0s 88us/sample - loss: 17.5598 - mean_squared_error: 17.5598 - val_loss: 18.7480 - val_mean_squared_error: 18.7480\n",
      "Epoch 5/50\n",
      "1000/1000 [==============================] - 0s 70us/sample - loss: 16.5069 - mean_squared_error: 16.5069 - val_loss: 17.5366 - val_mean_squared_error: 17.5366\n",
      "Epoch 6/50\n",
      "1000/1000 [==============================] - 0s 70us/sample - loss: 15.4808 - mean_squared_error: 15.4808 - val_loss: 16.3431 - val_mean_squared_error: 16.3431\n",
      "Epoch 7/50\n",
      "1000/1000 [==============================] - 0s 75us/sample - loss: 14.3771 - mean_squared_error: 14.3771 - val_loss: 15.0115 - val_mean_squared_error: 15.0115\n",
      "Epoch 8/50\n",
      "1000/1000 [==============================] - 0s 70us/sample - loss: 13.1002 - mean_squared_error: 13.1002 - val_loss: 13.4435 - val_mean_squared_error: 13.4435\n",
      "Epoch 9/50\n",
      "1000/1000 [==============================] - 0s 80us/sample - loss: 11.6021 - mean_squared_error: 11.6021 - val_loss: 11.6492 - val_mean_squared_error: 11.6492\n",
      "Epoch 10/50\n",
      "1000/1000 [==============================] - 0s 79us/sample - loss: 9.8718 - mean_squared_error: 9.8718 - val_loss: 9.6266 - val_mean_squared_error: 9.6266\n",
      "Epoch 11/50\n",
      "1000/1000 [==============================] - 0s 84us/sample - loss: 7.9766 - mean_squared_error: 7.9766 - val_loss: 7.4528 - val_mean_squared_error: 7.4528\n",
      "Epoch 12/50\n",
      "1000/1000 [==============================] - 0s 76us/sample - loss: 6.0305 - mean_squared_error: 6.0305 - val_loss: 5.4240 - val_mean_squared_error: 5.4240\n",
      "Epoch 13/50\n",
      "1000/1000 [==============================] - 0s 70us/sample - loss: 4.2836 - mean_squared_error: 4.2836 - val_loss: 3.6673 - val_mean_squared_error: 3.6673\n",
      "Epoch 14/50\n",
      "1000/1000 [==============================] - 0s 71us/sample - loss: 2.8875 - mean_squared_error: 2.8875 - val_loss: 2.4344 - val_mean_squared_error: 2.4344\n",
      "Epoch 15/50\n",
      "1000/1000 [==============================] - 0s 80us/sample - loss: 1.9488 - mean_squared_error: 1.9488 - val_loss: 1.6729 - val_mean_squared_error: 1.6729\n",
      "Epoch 16/50\n",
      "1000/1000 [==============================] - 0s 86us/sample - loss: 1.3903 - mean_squared_error: 1.3903 - val_loss: 1.2650 - val_mean_squared_error: 1.2650\n",
      "Epoch 17/50\n",
      "1000/1000 [==============================] - 0s 78us/sample - loss: 1.0795 - mean_squared_error: 1.0795 - val_loss: 1.0352 - val_mean_squared_error: 1.0352\n",
      "Epoch 18/50\n",
      "1000/1000 [==============================] - 0s 76us/sample - loss: 0.8950 - mean_squared_error: 0.8950 - val_loss: 0.8922 - val_mean_squared_error: 0.8922\n",
      "Epoch 19/50\n",
      "1000/1000 [==============================] - 0s 84us/sample - loss: 0.7643 - mean_squared_error: 0.7643 - val_loss: 0.7603 - val_mean_squared_error: 0.7603\n",
      "Epoch 20/50\n",
      "1000/1000 [==============================] - 0s 83us/sample - loss: 0.6510 - mean_squared_error: 0.6510 - val_loss: 0.6471 - val_mean_squared_error: 0.6471\n",
      "Epoch 21/50\n",
      "1000/1000 [==============================] - 0s 79us/sample - loss: 0.5536 - mean_squared_error: 0.5536 - val_loss: 0.5472 - val_mean_squared_error: 0.5472\n",
      "Epoch 22/50\n",
      "1000/1000 [==============================] - 0s 77us/sample - loss: 0.4728 - mean_squared_error: 0.4728 - val_loss: 0.4680 - val_mean_squared_error: 0.4680\n",
      "Epoch 23/50\n",
      "1000/1000 [==============================] - 0s 71us/sample - loss: 0.4098 - mean_squared_error: 0.4098 - val_loss: 0.4067 - val_mean_squared_error: 0.4067\n",
      "Epoch 24/50\n",
      "1000/1000 [==============================] - 0s 77us/sample - loss: 0.3550 - mean_squared_error: 0.3550 - val_loss: 0.3556 - val_mean_squared_error: 0.3556\n",
      "Epoch 25/50\n",
      "1000/1000 [==============================] - 0s 71us/sample - loss: 0.3102 - mean_squared_error: 0.3102 - val_loss: 0.3081 - val_mean_squared_error: 0.3081\n",
      "Epoch 26/50\n",
      "1000/1000 [==============================] - 0s 68us/sample - loss: 0.2699 - mean_squared_error: 0.2699 - val_loss: 0.2667 - val_mean_squared_error: 0.2667\n",
      "Epoch 27/50\n",
      "1000/1000 [==============================] - 0s 72us/sample - loss: 0.2353 - mean_squared_error: 0.2353 - val_loss: 0.2321 - val_mean_squared_error: 0.2321\n",
      "Epoch 28/50\n",
      "1000/1000 [==============================] - 0s 80us/sample - loss: 0.2067 - mean_squared_error: 0.2067 - val_loss: 0.2046 - val_mean_squared_error: 0.2046\n",
      "Epoch 29/50\n",
      "1000/1000 [==============================] - 0s 74us/sample - loss: 0.1853 - mean_squared_error: 0.1853 - val_loss: 0.1860 - val_mean_squared_error: 0.1860\n",
      "Epoch 30/50\n",
      "1000/1000 [==============================] - 0s 66us/sample - loss: 0.1701 - mean_squared_error: 0.1701 - val_loss: 0.1725 - val_mean_squared_error: 0.1725\n",
      "Epoch 31/50\n",
      "1000/1000 [==============================] - 0s 73us/sample - loss: 0.1582 - mean_squared_error: 0.1582 - val_loss: 0.1614 - val_mean_squared_error: 0.1614\n",
      "Epoch 32/50\n",
      "1000/1000 [==============================] - 0s 70us/sample - loss: 0.1482 - mean_squared_error: 0.1482 - val_loss: 0.1516 - val_mean_squared_error: 0.1516\n",
      "Epoch 33/50\n",
      "1000/1000 [==============================] - 0s 69us/sample - loss: 0.1401 - mean_squared_error: 0.1401 - val_loss: 0.1437 - val_mean_squared_error: 0.1437\n",
      "Epoch 34/50\n",
      "1000/1000 [==============================] - 0s 75us/sample - loss: 0.1318 - mean_squared_error: 0.1318 - val_loss: 0.1358 - val_mean_squared_error: 0.1358\n",
      "Epoch 35/50\n",
      "1000/1000 [==============================] - 0s 75us/sample - loss: 0.1249 - mean_squared_error: 0.1249 - val_loss: 0.1289 - val_mean_squared_error: 0.1289\n",
      "Epoch 36/50\n",
      "1000/1000 [==============================] - 0s 86us/sample - loss: 0.1187 - mean_squared_error: 0.1187 - val_loss: 0.1230 - val_mean_squared_error: 0.1230\n",
      "Epoch 37/50\n",
      "1000/1000 [==============================] - 0s 66us/sample - loss: 0.1131 - mean_squared_error: 0.1131 - val_loss: 0.1174 - val_mean_squared_error: 0.1174\n",
      "Epoch 38/50\n",
      "1000/1000 [==============================] - 0s 71us/sample - loss: 0.1074 - mean_squared_error: 0.1074 - val_loss: 0.1124 - val_mean_squared_error: 0.1124\n",
      "Epoch 39/50\n",
      "1000/1000 [==============================] - 0s 73us/sample - loss: 0.1028 - mean_squared_error: 0.1028 - val_loss: 0.1084 - val_mean_squared_error: 0.1084\n",
      "Epoch 40/50\n",
      "1000/1000 [==============================] - 0s 60us/sample - loss: 0.0985 - mean_squared_error: 0.0985 - val_loss: 0.1044 - val_mean_squared_error: 0.1044\n",
      "Epoch 41/50\n",
      "1000/1000 [==============================] - 0s 133us/sample - loss: 0.0946 - mean_squared_error: 0.0946 - val_loss: 0.1012 - val_mean_squared_error: 0.1012\n",
      "Epoch 42/50\n",
      "1000/1000 [==============================] - 0s 130us/sample - loss: 0.0918 - mean_squared_error: 0.0918 - val_loss: 0.0986 - val_mean_squared_error: 0.0986\n",
      "Epoch 43/50\n",
      "1000/1000 [==============================] - 0s 132us/sample - loss: 0.0883 - mean_squared_error: 0.0883 - val_loss: 0.0960 - val_mean_squared_error: 0.0960\n",
      "Epoch 44/50\n",
      "1000/1000 [==============================] - 0s 126us/sample - loss: 0.0854 - mean_squared_error: 0.0854 - val_loss: 0.0935 - val_mean_squared_error: 0.0935\n",
      "Epoch 45/50\n",
      "1000/1000 [==============================] - 0s 112us/sample - loss: 0.0830 - mean_squared_error: 0.0830 - val_loss: 0.0919 - val_mean_squared_error: 0.0919\n",
      "Epoch 46/50\n",
      "1000/1000 [==============================] - 0s 106us/sample - loss: 0.0809 - mean_squared_error: 0.0809 - val_loss: 0.0903 - val_mean_squared_error: 0.0903\n",
      "Epoch 47/50\n",
      "1000/1000 [==============================] - 0s 102us/sample - loss: 0.0790 - mean_squared_error: 0.0790 - val_loss: 0.0886 - val_mean_squared_error: 0.0886\n",
      "Epoch 48/50\n",
      "1000/1000 [==============================] - 0s 100us/sample - loss: 0.0772 - mean_squared_error: 0.0772 - val_loss: 0.0877 - val_mean_squared_error: 0.0877\n",
      "Epoch 49/50\n"
     ]
    },
    {
     "name": "stdout",
     "output_type": "stream",
     "text": [
      "1000/1000 [==============================] - 0s 103us/sample - loss: 0.0757 - mean_squared_error: 0.0757 - val_loss: 0.0865 - val_mean_squared_error: 0.0865\n",
      "Epoch 50/50\n",
      "1000/1000 [==============================] - 0s 104us/sample - loss: 0.0748 - mean_squared_error: 0.0748 - val_loss: 0.0851 - val_mean_squared_error: 0.0851\n"
     ]
    }
   ],
   "source": [
    "model = keras.Sequential()\n",
    "model.add(Dense(units=5, input_shape=(1,), activation=\"relu\" ))\n",
    "model.add(Dense(units=5, input_shape=(1,), activation=\"relu\" ))\n",
    "          \n",
    "model.add(Dense(units=1, activation=\"linear\"))\n",
    "\n",
    "# compile the model choosing optimizer, loss and metrics objects\n",
    "model.compile(optimizer='adam', loss=\"mean_squared_error\", metrics=['mean_squared_error'], )\n",
    "\n",
    "\n",
    "#es = EarlyStopping(monitor='val_loss', min_delta=1e-10, patience=10, verbose=1)\n",
    "\n",
    "\n",
    "history = model.fit(x=x_train_scal, y=y_train, \n",
    "          batch_size=32, epochs=50,\n",
    "          shuffle=True, # a good idea is to shuffle input before at each epoch\n",
    "          validation_data=(x_valid_scal, y_valid))"
   ]
  },
  {
   "cell_type": "markdown",
   "metadata": {},
   "source": [
    "I check again how it performs on the validation set"
   ]
  },
  {
   "cell_type": "code",
   "execution_count": 15,
   "metadata": {},
   "outputs": [
    {
     "data": {
      "image/png": "[encoded data removed]",
      "text/plain": [
       "<Figure size 432x288 with 1 Axes>"
      ]
     },
     "metadata": {
      "needs_background": "light"
     },
     "output_type": "display_data"
    }
   ],
   "source": [
    "y_predicted = model.predict(x_valid_scal)\n",
    "\n",
    "#try with some new points out of domain\n",
    "new_points=np.array([-1.5,-1.3,2])\n",
    "y_new=func(new_points)\n",
    "new_points_scal=scaler.transform(new_points.reshape(-1, 1))\n",
    "y_new_pred=model.predict(new_points_scal)\n",
    "\n",
    "\n",
    "\n",
    "#unnormalize data:\n",
    "x_valid_rev=scaler.inverse_transform(x_valid_scal)\n",
    "\n",
    "plt.scatter(x_valid_rev, y_predicted,color='r', label=\"Predicted\")\n",
    "plt.plot(x_valid_rev, y_valid, label=\"True\")\n",
    "plt.scatter(new_points, y_new, label = \"True new\")\n",
    "plt.scatter(new_points, y_new_pred, label = \"predicted new\")\n",
    "plt.legend()\n",
    "plt.grid(True)\n",
    "plt.show()"
   ]
  },
  {
   "cell_type": "markdown",
   "metadata": {},
   "source": [
    "Out of the interval it's performing very badly. The NN it's not able to generalize on unseen data interval. (And, to be fair, this model is not performing well even on the trained interval)."
   ]
  },
  {
   "cell_type": "markdown",
   "metadata": {},
   "source": [
    "## Classical Machine Learning Approach\n",
    "For curiosity, I want to try again how a classical machine learning approach performs. Given the shape of the data, a regression with polynomial basis function is a natural choice. \n",
    "Looking at the graph it's clear that the undelying function is some kind of polynomial curve. I will pretend not to know that data is generated by a third grade polynomial (would be cheating), and I will build a model based on a forth grade basis function. Note that with this data also a radial basis function would be able to generalize well, but it would be a quite more complex approach. "
   ]
  },
  {
   "cell_type": "code",
   "execution_count": 16,
   "metadata": {},
   "outputs": [
    {
     "data": {
      "text/plain": [
       "LinearRegression(copy_X=True, fit_intercept=True, n_jobs=None, normalize=False)"
      ]
     },
     "execution_count": 16,
     "metadata": {},
     "output_type": "execute_result"
    }
   ],
   "source": [
    "from sklearn.linear_model import LinearRegression\n",
    "model = LinearRegression()\n",
    "\n",
    "\n",
    "from sklearn.preprocessing import PolynomialFeatures\n",
    "\n",
    "poly_reg = PolynomialFeatures(degree=4) #let's try 4 pretending we don't know how data was generated\n",
    "x_train_poly = poly_reg.fit_transform(x_train.reshape(-1,1))\n",
    "x_valid_poly = poly_reg.fit_transform(x_valid.reshape(-1,1))\n",
    "\n",
    "model.fit(x_train_poly,y_train)"
   ]
  },
  {
   "cell_type": "code",
   "execution_count": 17,
   "metadata": {},
   "outputs": [
    {
     "data": {
      "text/plain": [
       "0.03754814610498939"
      ]
     },
     "execution_count": 17,
     "metadata": {},
     "output_type": "execute_result"
    }
   ],
   "source": [
    "from sklearn.metrics import mean_squared_error\n",
    "mean_squared_error(y_train, model.predict(x_train_poly))"
   ]
  },
  {
   "cell_type": "code",
   "execution_count": 18,
   "metadata": {},
   "outputs": [
    {
     "data": {
      "text/plain": [
       "0.03361135910785437"
      ]
     },
     "execution_count": 18,
     "metadata": {},
     "output_type": "execute_result"
    }
   ],
   "source": [
    "mean_squared_error(y_valid, model.predict(x_valid_poly))"
   ]
  },
  {
   "cell_type": "code",
   "execution_count": 19,
   "metadata": {},
   "outputs": [
    {
     "data": {
      "image/png": "[encoded data removed]",
      "text/plain": [
       "<Figure size 432x288 with 1 Axes>"
      ]
     },
     "metadata": {
      "needs_background": "light"
     },
     "output_type": "display_data"
    }
   ],
   "source": [
    "y_predicted = model.predict(x_valid_poly)\n",
    "\n",
    "new_points_poly=poly_reg.transform(new_points.reshape(-1, 1))\n",
    "y_new_pred=model.predict(new_points_poly)\n",
    "\n",
    "plt.scatter(x_valid_rev, y_predicted,color='r', label=\"Predicted\")\n",
    "plt.plot(x_valid_rev, y_valid, label=\"True\")\n",
    "plt.scatter(new_points, y_new, label = \"True new\")\n",
    "plt.scatter(new_points, y_new_pred, label = \"predicted new\")\n",
    "plt.legend()\n",
    "plt.grid(True)\n",
    "plt.show()"
   ]
  },
  {
   "cell_type": "markdown",
   "metadata": {},
   "source": [
    "On this problem a classic approach performed much better on unseen interval (and even on the seen one). With some work it could do even more: I didn't prevent any kind of overfitting, for instance (some regularization may be useful), but still it's a good result! And if you use a 3 grade poly in the preprocessing the result is perfect (but it would be definitily cheating...). However, from my experience, when the problem space is too simple the neural networks usually don't perform well. Things change when the problem becomes complex and not easy to understand any underlying path in the preprocessing and data visualization stage. In that situation choosing a classical approach that fits well is very hard if not impossible."
   ]
  },
  {
   "cell_type": "code",
   "execution_count": null,
   "metadata": {},
   "outputs": [],
   "source": []
  }
 ],
 "metadata": {
  "kernelspec": {
   "display_name": "Python 3",
   "language": "python",
   "name": "python3"
  },
  "language_info": {
   "codemirror_mode": {
    "name": "ipython",
    "version": 3
   },
   "file_extension": ".py",
   "mimetype": "text/x-python",
   "name": "python",
   "nbconvert_exporter": "python",
   "pygments_lexer": "ipython3",
   "version": "3.7.3"
  }
 },
 "nbformat": 4,
 "nbformat_minor": 2
}
